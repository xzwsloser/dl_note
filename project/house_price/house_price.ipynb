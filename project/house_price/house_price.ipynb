{
 "cells": [
  {
   "cell_type": "code",
   "execution_count": 54,
   "id": "4b5a4c27-5a48-4cbb-87e6-7f7c1aca2d8c",
   "metadata": {},
   "outputs": [],
   "source": [
    "%matplotlib inline\n",
    "import numpy as np\n",
    "import pandas as pd\n",
    "import torch\n",
    "from torch.utils.data import Dataset, DataLoader\n",
    "import matplotlib.pyplot as plt\n",
    "from torch import nn"
   ]
  },
  {
   "cell_type": "markdown",
   "id": "98b0d1ab-1856-47c1-b579-dd9df9478c38",
   "metadata": {},
   "source": [
    "# 房价预测任务\n",
    "利用深度学习算法解决一个实际问题的步骤如下:\n",
    "1. 明确问题和任务\n",
    "2. 数据获取和数据初步探索\n",
    "3. 数据预处理\n",
    "4. 特征工程\n",
    "5. 模型选择和训练\n",
    "6. 模型评估\n",
    "7. 模型融合\n",
    "8. 模型验证"
   ]
  },
  {
   "cell_type": "markdown",
   "id": "29863804-4738-4a4a-82a6-067d08ef3ab1",
   "metadata": {},
   "source": [
    "## 明确问题和任务\n",
    "任务: 根据各种特征来预测房价, 属于回归任务"
   ]
  },
  {
   "cell_type": "markdown",
   "id": "11772964-c703-4aa8-886f-a05069fd08e1",
   "metadata": {},
   "source": [
    "## 数据获取与初步探索\n",
    "需要使用的数据集在 `./data` 中, 相关的数据集如下:\n",
    "- `train.csv`: 训练集\n",
    "- `test.csv`: 测试集\n",
    "- `sample_submission.csv`: 使用一个简单的线性模型进行预测的结果, 用于对比"
   ]
  },
  {
   "cell_type": "code",
   "execution_count": 55,
   "id": "6cfaa18b-a481-452c-85cc-691721d9e954",
   "metadata": {},
   "outputs": [
    {
     "data": {
      "text/plain": [
       "((1460, 81), (1459, 80))"
      ]
     },
     "execution_count": 55,
     "metadata": {},
     "output_type": "execute_result"
    }
   ],
   "source": [
    "# 1. 读取数据集\n",
    "train_data = pd.read_csv('./data/train.csv')\n",
    "test_data = pd.read_csv('./data/test.csv')\n",
    "train_data.shape, test_data.shape"
   ]
  },
  {
   "cell_type": "code",
   "execution_count": 56,
   "id": "5eee8f49-c081-4638-80ef-6e63464c86e2",
   "metadata": {},
   "outputs": [
    {
     "name": "stdout",
     "output_type": "stream",
     "text": [
      "   Id  MSSubClass MSZoning  LotFrontage SaleType SaleCondition  SalePrice\n",
      "0   1          60       RL         65.0       WD        Normal     208500\n",
      "1   2          20       RL         80.0       WD        Normal     181500\n",
      "2   3          60       RL         68.0       WD        Normal     223500\n",
      "3   4          70       RL         60.0       WD       Abnorml     140000\n"
     ]
    }
   ],
   "source": [
    "# 2. 简单看一下数据\n",
    "print(train_data.iloc[0:4, [0, 1, 2, 3, -3, -2, -1]])"
   ]
  },
  {
   "cell_type": "code",
   "execution_count": 57,
   "id": "52711e76-8cf1-48a1-be24-b7d8afb6ca2e",
   "metadata": {},
   "outputs": [
    {
     "data": {
      "text/html": [
       "<div>\n",
       "<style scoped>\n",
       "    .dataframe tbody tr th:only-of-type {\n",
       "        vertical-align: middle;\n",
       "    }\n",
       "\n",
       "    .dataframe tbody tr th {\n",
       "        vertical-align: top;\n",
       "    }\n",
       "\n",
       "    .dataframe thead th {\n",
       "        text-align: right;\n",
       "    }\n",
       "</style>\n",
       "<table border=\"1\" class=\"dataframe\">\n",
       "  <thead>\n",
       "    <tr style=\"text-align: right;\">\n",
       "      <th></th>\n",
       "      <th>MSSubClass</th>\n",
       "      <th>MSZoning</th>\n",
       "      <th>LotFrontage</th>\n",
       "      <th>LotArea</th>\n",
       "      <th>YrSold</th>\n",
       "      <th>SaleType</th>\n",
       "      <th>SaleCondition</th>\n",
       "    </tr>\n",
       "  </thead>\n",
       "  <tbody>\n",
       "    <tr>\n",
       "      <th>0</th>\n",
       "      <td>60</td>\n",
       "      <td>RL</td>\n",
       "      <td>65.0</td>\n",
       "      <td>8450</td>\n",
       "      <td>2008</td>\n",
       "      <td>WD</td>\n",
       "      <td>Normal</td>\n",
       "    </tr>\n",
       "    <tr>\n",
       "      <th>1</th>\n",
       "      <td>20</td>\n",
       "      <td>RL</td>\n",
       "      <td>80.0</td>\n",
       "      <td>9600</td>\n",
       "      <td>2007</td>\n",
       "      <td>WD</td>\n",
       "      <td>Normal</td>\n",
       "    </tr>\n",
       "    <tr>\n",
       "      <th>2</th>\n",
       "      <td>60</td>\n",
       "      <td>RL</td>\n",
       "      <td>68.0</td>\n",
       "      <td>11250</td>\n",
       "      <td>2008</td>\n",
       "      <td>WD</td>\n",
       "      <td>Normal</td>\n",
       "    </tr>\n",
       "    <tr>\n",
       "      <th>3</th>\n",
       "      <td>70</td>\n",
       "      <td>RL</td>\n",
       "      <td>60.0</td>\n",
       "      <td>9550</td>\n",
       "      <td>2006</td>\n",
       "      <td>WD</td>\n",
       "      <td>Abnorml</td>\n",
       "    </tr>\n",
       "  </tbody>\n",
       "</table>\n",
       "</div>"
      ],
      "text/plain": [
       "   MSSubClass MSZoning  LotFrontage  LotArea  YrSold SaleType SaleCondition\n",
       "0          60       RL         65.0     8450    2008       WD        Normal\n",
       "1          20       RL         80.0     9600    2007       WD        Normal\n",
       "2          60       RL         68.0    11250    2008       WD        Normal\n",
       "3          70       RL         60.0     9550    2006       WD       Abnorml"
      ]
     },
     "execution_count": 57,
     "metadata": {},
     "output_type": "execute_result"
    }
   ],
   "source": [
    "# 提取特征\n",
    "all_features = pd.concat((train_data.iloc[:, 1:-1], test_data.iloc[:, 1:]))\n",
    "all_features.iloc[0:4, [0, 1, 2, 3, -3, -2, -1]]"
   ]
  },
  {
   "cell_type": "markdown",
   "id": "85e1dcfb-535a-46e2-971c-b847ba7ea52d",
   "metadata": {},
   "source": [
    "## 数据预处理\n",
    "这里数据预处理主要是处理缺失值(这里采用使用平均值代替) ; 同时需要为了把所有特征放在一个共同的尺度上, 可以通过把特征重新缩放到零均值和单位方差来标准化数据:\n",
    "$$\n",
    "x \\leftarrow \\frac {x - \\mu}{\\sigma}\n",
    "$$\n",
    "进行替换之后可以实现 $E[\\frac {x - \\mu}{\\sigma}] = 0$ 以及 $E[(x - \\mu)^2] = {\\sigma}^2$, 这样可以把数据都放在一定范围中, ~~缓解梯度消失或者梯度爆炸等问题(只是一个方面)~~, **核心目的是消除特征尺度差异、确保模型公平学习各特征的贡献(如果不这样可能导致模型参数更新偏向大尺度特征)**"
   ]
  },
  {
   "cell_type": "code",
   "execution_count": 58,
   "id": "d6a73bcb-0528-494b-bd6c-9c017ef9461d",
   "metadata": {},
   "outputs": [],
   "source": [
    "# 数据预处理过程\n",
    "# 1. 标准化数字特征\n",
    "# 注意布尔型数组的使用  a = matrix[cond(matrix)].index 提取索引, matrix[a] 操作特征\n",
    "numeric_features = all_features.dtypes[all_features.dtypes != 'object'].index\n",
    "all_features[numeric_features] = all_features[numeric_features].apply(\n",
    "    lambda x: ((x - x.mean())/x.std())\n",
    ")\n",
    "all_features[numeric_features] = all_features[numeric_features].fillna(0) # 缺失值填 0"
   ]
  },
  {
   "cell_type": "code",
   "execution_count": 59,
   "id": "d6d25f3f-bc79-431a-a5b5-540cd37fdc6b",
   "metadata": {},
   "outputs": [
    {
     "data": {
      "text/html": [
       "<div>\n",
       "<style scoped>\n",
       "    .dataframe tbody tr th:only-of-type {\n",
       "        vertical-align: middle;\n",
       "    }\n",
       "\n",
       "    .dataframe tbody tr th {\n",
       "        vertical-align: top;\n",
       "    }\n",
       "\n",
       "    .dataframe thead th {\n",
       "        text-align: right;\n",
       "    }\n",
       "</style>\n",
       "<table border=\"1\" class=\"dataframe\">\n",
       "  <thead>\n",
       "    <tr style=\"text-align: right;\">\n",
       "      <th></th>\n",
       "      <th>MSSubClass</th>\n",
       "      <th>MSZoning</th>\n",
       "      <th>LotFrontage</th>\n",
       "      <th>LotArea</th>\n",
       "    </tr>\n",
       "  </thead>\n",
       "  <tbody>\n",
       "    <tr>\n",
       "      <th>0</th>\n",
       "      <td>0.067320</td>\n",
       "      <td>RL</td>\n",
       "      <td>-0.184443</td>\n",
       "      <td>-0.217841</td>\n",
       "    </tr>\n",
       "    <tr>\n",
       "      <th>1</th>\n",
       "      <td>-0.873466</td>\n",
       "      <td>RL</td>\n",
       "      <td>0.458096</td>\n",
       "      <td>-0.072032</td>\n",
       "    </tr>\n",
       "    <tr>\n",
       "      <th>2</th>\n",
       "      <td>0.067320</td>\n",
       "      <td>RL</td>\n",
       "      <td>-0.055935</td>\n",
       "      <td>0.137173</td>\n",
       "    </tr>\n",
       "    <tr>\n",
       "      <th>3</th>\n",
       "      <td>0.302516</td>\n",
       "      <td>RL</td>\n",
       "      <td>-0.398622</td>\n",
       "      <td>-0.078371</td>\n",
       "    </tr>\n",
       "  </tbody>\n",
       "</table>\n",
       "</div>"
      ],
      "text/plain": [
       "   MSSubClass MSZoning  LotFrontage   LotArea\n",
       "0    0.067320       RL    -0.184443 -0.217841\n",
       "1   -0.873466       RL     0.458096 -0.072032\n",
       "2    0.067320       RL    -0.055935  0.137173\n",
       "3    0.302516       RL    -0.398622 -0.078371"
      ]
     },
     "execution_count": 59,
     "metadata": {},
     "output_type": "execute_result"
    }
   ],
   "source": [
    "all_features.iloc[0:4, [0, 1, 2, 3]]"
   ]
  },
  {
   "cell_type": "code",
   "execution_count": 68,
   "id": "c704d14c-2d37-47c1-ba93-97741918c653",
   "metadata": {},
   "outputs": [
    {
     "data": {
      "text/plain": [
       "(2919, 330)"
      ]
     },
     "execution_count": 68,
     "metadata": {},
     "output_type": "execute_result"
    }
   ],
   "source": [
    "# 2. 处理其他缺失值, 注意 get_dummies 函数的作用\n",
    "all_features = pd.get_dummies(all_features, dummy_na=True)\n",
    "all_features = all_features.astype('float32')\n",
    "all_features.shape"
   ]
  },
  {
   "cell_type": "code",
   "execution_count": 69,
   "id": "4b70f188-3891-4145-a75f-55b83f21b0cb",
   "metadata": {},
   "outputs": [],
   "source": [
    "n_train = train_data.shape[0]\n",
    "train_features = torch.tensor(all_features[:n_train].values, dtype=torch.float32)\n",
    "test_features = torch.tensor(all_features[n_train:].values, dtype=torch.float32)\n",
    "train_labels = torch.tensor(\n",
    "    train_data.SalePrice.values.reshape(-1, 1), dtype=torch.float32)"
   ]
  },
  {
   "cell_type": "markdown",
   "id": "c2daa6cd-12e3-4ee7-90d5-e842ba631f64",
   "metadata": {},
   "source": [
    "## 特征工程\n",
    "> 我的理解特征工程就是对于特征进行一系列操作, 从而达到提升模型性能的效果\n",
    "\n",
    "同时特征工程还包含如下几个部分的操作:\n",
    "1. 数据清洗与预处理: 缺失值处理、异常值处理、数据标准化/归一化\n",
    "2. 特征构建与衍生: 组合特征(月份 + 年份等)、统计特征(计算分组之后的均值等)、文本特征提取(`Word2Vec`等), 时间特征处理\n",
    "3. 特征转换以及编码: `One-hot`编码(将类别转换为二进制数据), 标签编码(类别映射为整数), 目标编码(用目标变量的统计值替换类别)"
   ]
  },
  {
   "cell_type": "markdown",
   "id": "9a11fd40-e42f-43d4-99d2-e56ee16cf1be",
   "metadata": {},
   "source": [
    "## 模型选择和训练\n",
    "这里可以选择时用一个带有平方损失的线性模型, 这里对预测值和真实值去对于之后带入平方损失函数(此时关心相对数量, 而不是绝对数量):\n",
    "$$\n",
    "\\sqrt{\\frac{1}{n} \\sum_{i=1}^{n} \\left( \\log y_i - \\log \\hat{y}_i \\right)^2}\n",
    "$$"
   ]
  },
  {
   "cell_type": "code",
   "execution_count": 135,
   "id": "6beb04ee-b244-4a6f-a7d8-5b9bb64c73d9",
   "metadata": {},
   "outputs": [
    {
     "data": {
      "text/plain": [
       "torch.Size([1460, 330])"
      ]
     },
     "execution_count": 135,
     "metadata": {},
     "output_type": "execute_result"
    }
   ],
   "source": [
    "train_features.shape "
   ]
  },
  {
   "cell_type": "code",
   "execution_count": 208,
   "id": "f0031464-59c3-4ed5-b08a-0b9c0ac2d001",
   "metadata": {},
   "outputs": [],
   "source": [
    "# 1. 网络结构\n",
    "loss = nn.MSELoss()\n",
    "in_features = train_features.shape[1] # 特征数\n",
    "def get_net():\n",
    "    net = nn.Sequential(nn.Linear(in_features, 1))\n",
    "    return net"
   ]
  },
  {
   "cell_type": "code",
   "execution_count": 209,
   "id": "8667dbf0-a92f-4712-9a30-7843e1fbe16b",
   "metadata": {},
   "outputs": [],
   "source": [
    "# 2. 评估使用的损失函数, 但是预测的是房价, 所以预测使用平方损失函数\n",
    "def log_rmse(net, features, labels):\n",
    "    clipped_pred = torch.clamp(net(features), 1, float('inf'))\n",
    "    rmse = torch.sqrt(loss(torch.log(clipped_pred), torch.log(labels)))\n",
    "    return rmse.item()"
   ]
  },
  {
   "cell_type": "code",
   "execution_count": 210,
   "id": "bbc449dd-6465-4a56-af1e-672c1632dea2",
   "metadata": {},
   "outputs": [],
   "source": [
    "# 3. 数据集封装\n",
    "class ArrayDataset(Dataset):\n",
    "    def __init__(self, features, labels):\n",
    "        self.features = features\n",
    "        self.labels = labels\n",
    "    def __len__(self):\n",
    "        return len(self.features)\n",
    "    def __getitem__(self,idx):\n",
    "        feature = self.features[idx]\n",
    "        label = self.labels[idx]\n",
    "        return feature, label\n",
    "def load_from_array(features, labels, batch_size=256):\n",
    "    return DataLoader(ArrayDataset(features, labels), shuffle=True, batch_size=batch_size)"
   ]
  },
  {
   "cell_type": "code",
   "execution_count": 211,
   "id": "e72f7597-064a-49f9-8d1c-5ef11ae8adb8",
   "metadata": {},
   "outputs": [],
   "source": [
    "# 4. 训练函数\n",
    "def train(net, train_features, train_labels, test_features, test_labels,\n",
    "          num_epochs, lr, weight_decay, batch_size):\n",
    "    \"\"\"\n",
    "    @Description: 一个通用的模型训练函数\n",
    "    net: 待训练模型\n",
    "    train_features: 训练集特征\n",
    "    train_labels:   训练集标签\n",
    "    test_features:  测试集特征\n",
    "    test_labels:    测试集标签\n",
    "    num_epochs:     训练轮数\n",
    "    lr:             学习率\n",
    "    weight_decay:   正则化系数\n",
    "    batch_size:     批量\n",
    "    \"\"\"\n",
    "    train_ls, test_ls = [], [] # 记录训练集上的损失和测试集上的损失\n",
    "    train_iter = load_from_array(train_features, train_labels)\n",
    "    optimizer = torch.optim.Adam(net.parameters(), lr=lr, weight_decay=weight_decay)\n",
    "\n",
    "    for epoch in range(num_epochs):\n",
    "        for X, y in train_iter:\n",
    "            optimizer.zero_grad()\n",
    "            l = loss(net(X), y)\n",
    "            l.backward()\n",
    "            optimizer.step()\n",
    "        train_ls.append(log_rmse(net, train_features, train_labels))\n",
    "        if test_labels is not None: # == -> is != -> is not\n",
    "            test_ls.append(log_rmse(net, test_features, test_labels))\n",
    "    return train_ls, test_ls"
   ]
  },
  {
   "cell_type": "markdown",
   "id": "362d8d00-1fe1-474f-b69f-a720ec985ed4",
   "metadata": {},
   "source": [
    "## 模型评估\n",
    "这里使用 `K` 折交叉验证进行模型评估, 从而提高模型的泛化能力等: 把训练集分为 `K` 份, 其中 `1` 份作为验证集, 同时 `K - 1` 份作为训练集, 在训练集上训练并且在验证集上对于模型进行测试"
   ]
  },
  {
   "cell_type": "code",
   "execution_count": 212,
   "id": "da810356-9d15-41b2-95fb-263c8354589b",
   "metadata": {},
   "outputs": [],
   "source": [
    "def get_k_fold_data(k, i, X, y):\n",
    "    \"\"\"\n",
    "    @Description: 训练集划分为 K 份, 其中第 i 份数组作为验证集, 其他作为训练集\n",
    "    \"\"\"\n",
    "    assert k > 1\n",
    "    fold_size = X.shape[0] // k\n",
    "    X_train, y_train = None, None\n",
    "    for j in range(k):\n",
    "        idx = slice(j*fold_size, (j + 1)*fold_size)\n",
    "        X_part, y_part = X[idx, :], y[idx]\n",
    "        if j == i:\n",
    "            X_valid, y_valid = X_part, y_part\n",
    "        elif X_train is None:\n",
    "            X_train, y_train = X_part, y_part\n",
    "        else:\n",
    "            X_train = torch.cat([X_train, X_part], 0)\n",
    "            y_train = torch.cat([y_train, y_part], 0)\n",
    "    return X_train, y_train, X_valid, y_valid"
   ]
  },
  {
   "cell_type": "code",
   "execution_count": 199,
   "id": "a62965c8-56fc-4f14-93f1-2ab75f8bcea5",
   "metadata": {},
   "outputs": [],
   "source": [
    "def draw(num_epochs, train_ls, valid_ls):\n",
    "    if len(train_ls) > 0:\n",
    "        plt.plot(list(range(1, num_epochs + 1)), train_ls, label='train')\n",
    "    if len(valid_ls) > 0:\n",
    "        plt.plot(list(range(1, num_epochs + 1)), valid_ls, label='valid')\n",
    "    plt.xlabel('epoch')\n",
    "    plt.ylabel('rmse')\n",
    "    plt.yscale('log')\n",
    "    plt.grid()\n",
    "    plt.legend(loc='best')\n",
    "    plt.show()\n",
    "    \n",
    "def k_fold(k, X_train, y_train, num_epochs, lr, weight_decray, \n",
    "          batch_size):\n",
    "    \"\"\"\n",
    "    K折交叉验证\n",
    "    \"\"\"\n",
    "    train_l_sum, valid_l_sum = 0, 0\n",
    "    for i in range(k):\n",
    "        data = get_k_fold_data(k, i, X_train, y_train)\n",
    "        net = get_net()\n",
    "        train_ls, valid_ls = train(net, *data, num_epochs, lr, \n",
    "                                   weight_decray, batch_size)\n",
    "        train_l_sum += train_ls[-1] # 只记录最后一次的 loss\n",
    "        valid_l_sum += valid_ls[-1] \n",
    "        print(f'折{i + 1}, 训练log rmse {float(valid_ls[-1]):f}, 验证log rmse {float(train_ls[-1]):f}')\n",
    "        if i == k - 1:\n",
    "            draw(num_epochs, train_ls, valid_ls) \n",
    "    return train_l_sum / k, valid_l_sum / k  # 计算 k 此验证之后的平均损失"
   ]
  },
  {
   "cell_type": "markdown",
   "id": "720ab156-c43a-41c0-a40f-145a5a1164fc",
   "metadata": {},
   "source": [
    "## 模型选择"
   ]
  },
  {
   "cell_type": "code",
   "execution_count": 275,
   "id": "8d33922d-c441-4447-878a-be1a090914c1",
   "metadata": {},
   "outputs": [
    {
     "name": "stdout",
     "output_type": "stream",
     "text": [
      "折1, 训练log rmse 0.147645, 验证log rmse 0.130637\n",
      "折2, 训练log rmse 0.149687, 验证log rmse 0.127975\n",
      "折3, 训练log rmse 0.142895, 验证log rmse 0.126670\n",
      "折4, 训练log rmse 0.141509, 验证log rmse 0.131688\n",
      "折5, 训练log rmse 0.169793, 验证log rmse 0.123522\n"
     ]
    },
    {
     "data": {
      "image/png": "[encoded data removed]",
      "text/plain": [
       "<Figure size 640x480 with 1 Axes>"
      ]
     },
     "metadata": {},
     "output_type": "display_data"
    },
    {
     "name": "stdout",
     "output_type": "stream",
     "text": [
      "5-折验证: 平均训练log rmse: 0.128098, 平均验证log rmse: 0.150306\n"
     ]
    }
   ],
   "source": [
    "k, num_epochs, lr, weight_decay, batch_size = 5, 100, 80 , 0 , 64\n",
    "train_l, valid_l = k_fold(k, train_features, train_labels, num_epochs, lr, weight_decay, batch_size)\n",
    "print(f'{k}-折验证: 平均训练log rmse: {float(train_l):f}, '\n",
    "      f'平均验证log rmse: {float(valid_l):f}')"
   ]
  },
  {
   "cell_type": "markdown",
   "id": "f8077cd9-31a1-4111-a6a4-513994b09027",
   "metadata": {},
   "source": [
    "## 模型验证"
   ]
  },
  {
   "cell_type": "code",
   "execution_count": 276,
   "id": "58e0449e-d69a-42f6-9e93-b610fa1b7d77",
   "metadata": {},
   "outputs": [],
   "source": [
    "# 预测并且提交结果\n",
    "def train_and_pred(train_features, test_features, train_labels,\n",
    "                  test_data, num_epochs, lr, weight_decay, batch_size):\n",
    "    net = get_net()\n",
    "    train_ls, _ = train(net, train_features, train_labels, None, None, \n",
    "                        num_epochs, lr, weight_decay, batch_size)\n",
    "    draw(num_epochs, train_ls, [])\n",
    "    print(f'训练 log rmse:{float(train_ls[-1]):f}')\n",
    "    preds = net(test_features).detach().numpy()\n",
    "    test_data['SalePrice'] = pd.Series(preds.reshape(1, -1)[0])\n",
    "    submission = pd.concat([test_data['Id'], test_data['SalePrice']], axis=1)\n",
    "    submission.to_csv('./data/submission.csv', index=False) # 不写入行标签 0, 1, 2..."
   ]
  },
  {
   "cell_type": "code",
   "execution_count": 277,
   "id": "1aa0ed30-7567-428d-b418-0411c454a806",
   "metadata": {},
   "outputs": [
    {
     "data": {
      "image/png": "[encoded data removed]",
      "text/plain": [
       "<Figure size 640x480 with 1 Axes>"
      ]
     },
     "metadata": {},
     "output_type": "display_data"
    },
    {
     "name": "stdout",
     "output_type": "stream",
     "text": [
      "训练 log rmse:0.127955\n"
     ]
    }
   ],
   "source": [
    "train_and_pred(train_features, test_features, train_labels, test_data,\n",
    "              num_epochs, lr, weight_decay, batch_size)"
   ]
  },
  {
   "cell_type": "markdown",
   "id": "0079280f-dd36-456c-ae79-cc97dc9cfb03",
   "metadata": {},
   "source": [
    "# 总结\n",
    "根据我自己的理解, 总结利用深度学习算法解决一个实际问题的步骤如下:\n",
    "1. 数据探索(探索数据类型, 数据方差均值等数字特征)\n",
    "2. 数据预处理(处理异常值和缺失值, 数值类型特征归一化, 非数值类型特征可以使用 `One-Hot` 编码)\n",
    "3. 特征工程(与前面不同的是, 这里是对于特征本身进行一系列的处理, 比如使用 `word2vec`)\n",
    "4. 模型选择(选择合适的模型, 比如决策树、`MLP` 等)\n",
    "5. 模型评估(对于选择的模型进行 `K` 折交叉验证获取全量训练, 对于超参数进行调整)\n",
    "6. 模型融合(对于模型进行最终训练, 并且利用一定方法把时用到的模型预测的结果进行组合操作)\n",
    "7. 模型验证(在测试集上评估模型效果)"
   ]
  },
  {
   "cell_type": "markdown",
   "id": "295d1006-5d10-491e-9992-323753f57ce3",
   "metadata": {},
   "source": [
    "## 注意事项\n",
    "### 1. 数据探索\n",
    "1. 这一个过程中最主要的就是读取文件操作, 可以使用 `pd.read_csv` 读取 `csv` 文件\n",
    "2. 同时可以使用切片或者索引操作取出对应的行或者列, 使用 整数索引`iloc[行索引,列索引]` 可以根据整数切片或者索引来取出元素, 使用标签索引 `loc[行标签:列标签]` 可以根据标签来取索引\n",
    "### 2. 数据预处理\n",
    "1. 注意布尔型索引的使用, 比如需要取出所有包含数据为数值类型的索引: `arr.dtypes[arr.dtypes != 'object'].index`\n",
    "2. 对于缺失值, 对于数值类型, 可以使用 `fillna`、`dropna`, 以及文本类型使用 `get_dummies`, 作用是把文类类型的变量转换为哑变量(使用`One-Hot`编码)\n",
    "3. 同时对于数值类型需要急性数据归一化操作, 这里可以使用 `apply` 函数(对于 `Series` 的每一行进行操作, 对于 `DataFrame` 的每一列/行进行操作)或者对应的 `applymap` 函数(对于 `DataFrame` 中的每一个元素进行操作)\n",
    "### 3. 特征工程\n",
    "这里暂时没有特征工程, 展示不说\n",
    "### 4. 模型选择\n",
    "根据实际情况选择具体的模型\n",
    "### 5. 模型评估\n",
    "1. 初始化模型参数\n",
    "2. 可以使用 `K` 折交叉验证来提高模型的泛化能力(对于数据量比较小的情况)\n",
    "### 6. 模型融合\n",
    "1. 对于模型进行最终训练\n",
    "2. 把各种模型的输入通过一定方法组合起来\n",
    "### 7. 模型验证\n",
    "1. 在测试集上测试模型效果"
   ]
  }
 ],
 "metadata": {
  "kernelspec": {
   "display_name": "Python 3 (ipykernel)",
   "language": "python",
   "name": "python3"
  },
  "language_info": {
   "codemirror_mode": {
    "name": "ipython",
    "version": 3
   },
   "file_extension": ".py",
   "mimetype": "text/x-python",
   "name": "python",
   "nbconvert_exporter": "python",
   "pygments_lexer": "ipython3",
   "version": "3.8.20"
  }
 },
 "nbformat": 4,
 "nbformat_minor": 5
}
