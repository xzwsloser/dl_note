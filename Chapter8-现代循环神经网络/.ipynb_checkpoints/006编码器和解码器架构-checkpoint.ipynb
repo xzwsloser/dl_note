{
 "cells": [
  {
   "cell_type": "code",
   "execution_count": 1,
   "id": "bbaa9644-2f1c-4dc7-96bb-893805571c2c",
   "metadata": {},
   "outputs": [],
   "source": [
    "import torch\n",
    "from torch import nn"
   ]
  },
  {
   "attachments": {
    "5754a934-7c2b-426e-aa5f-a01215a559dd.png": {
     "image/png": "[encoded data removed]"
    },
    "aa961f5f-92cb-4f4e-93f0-6a8115a97c07.png": {
     "image/png": "[encoded data removed]"
    }
   },
   "cell_type": "markdown",
   "id": "b2177f39-d2cc-411b-9d29-302558ebb355",
   "metadata": {},
   "source": [
    "# 编码器-解码器架构\n",
    "机器翻译是一个序列转换模型, 输入和输出都是长度可变的序列, 为了处理这一种类型的输入和输出, 可以所涉及一个包含两个主要组件的架构: \n",
    "1. 编码器: 接受长度可变的序列作为输入, 并且将其转换为具有固定形状的编码状态\n",
    "2. 解码器: 将固定形状的编码状态映射到长度可变的序列\n",
    "编码器架构和解码器架构如下:\n",
    "![image.png](attachment:aa961f5f-92cb-4f4e-93f0-6a8115a97c07.png)![image.png](attachment:5754a934-7c2b-426e-aa5f-a01215a559dd.png)\n",
    "\n",
    "下面把上述架构转换为接口方便后续实现"
   ]
  },
  {
   "cell_type": "markdown",
   "id": "e06466e9-fad2-4410-9792-f5585b625d1e",
   "metadata": {},
   "source": [
    "## 编码器\n",
    "编码器: 接受长度可辨的序列作为输入, 任何继承这一个 `Encoder` 基类的模型将完成代码实现:"
   ]
  },
  {
   "cell_type": "code",
   "execution_count": 3,
   "id": "afca38c2-9f99-4544-8752-10ecb856e400",
   "metadata": {},
   "outputs": [],
   "source": [
    "#@save\n",
    "class Encoder(nn.Module):\n",
    "    \"\"\"Encoder-Decoder 架构 Encoder\"\"\"\n",
    "    def __init__(self, **kwargs):\n",
    "        super(Encoder, self).__init__(**kwargs)\n",
    "    def forward(self, X, *args):\n",
    "        # 注意 Python 中强制规定接口实现的方法\n",
    "        raise NotImplementedError"
   ]
  },
  {
   "cell_type": "markdown",
   "id": "6ada792b-0c18-4944-8fb5-5a8ee0c2238e",
   "metadata": {},
   "source": [
    "## 解码器\n",
    "解码器: 结合对应的状态以及输入, 输出解码得到的对象, 其中的 `init_state`函数用于将编码器的输入转换为编码之后的状态, 这一个步骤可能需要额外的输入, 例如输入序列的有效长度等"
   ]
  },
  {
   "cell_type": "code",
   "execution_count": 5,
   "id": "a87634b4-640c-4ee4-9fe1-4a300857890d",
   "metadata": {},
   "outputs": [],
   "source": [
    "#@save\n",
    "class Decoder(nn.Module):\n",
    "    \"\"\"Encoder-Decoder 架构 Decoder\"\"\"\n",
    "    def __init__(self, **kwargs):\n",
    "        super(Decoder, self).__init__(**kwargs)\n",
    "    def init_state(self, enc_outputs, *args):\n",
    "        raise NotImplementedError\n",
    "    def forward(self, X, state):\n",
    "        raise NotImplemented"
   ]
  },
  {
   "cell_type": "markdown",
   "id": "501eaa8d-fd2e-48da-b8bd-9e4517650094",
   "metadata": {},
   "source": [
    "## 合并编码器和解码器\n",
    "用于描述整个编码器和解码器架构"
   ]
  },
  {
   "cell_type": "code",
   "execution_count": 7,
   "id": "27a17787-e62e-42ea-bbeb-a1c8bdd7b865",
   "metadata": {},
   "outputs": [],
   "source": [
    "#@save\n",
    "class EncoderDecoder(nn.Module):\n",
    "    \"\"\"Encoder-Decoder 架构\"\"\"\n",
    "    def __init__(self, encoder, decoder, **kwargs):\n",
    "        super(EncoderDecoder, self).__init__(**kwargs)\n",
    "        self.encoder = encoder\n",
    "        self.decoder = decoder\n",
    "    def forward(self, enc_X, dec_X, *args):\n",
    "        enc_outputs = self.encoder(enc_X, *args)\n",
    "        dec_state = self.decoder.init_state(enc_outputs, *args)\n",
    "        return self.decoder(dec_X, dec_state)"
   ]
  }
 ],
 "metadata": {
  "kernelspec": {
   "display_name": "Python 3 (ipykernel)",
   "language": "python",
   "name": "python3"
  },
  "language_info": {
   "codemirror_mode": {
    "name": "ipython",
    "version": 3
   },
   "file_extension": ".py",
   "mimetype": "text/x-python",
   "name": "python",
   "nbconvert_exporter": "python",
   "pygments_lexer": "ipython3",
   "version": "3.8.20"
  }
 },
 "nbformat": 4,
 "nbformat_minor": 5
}
