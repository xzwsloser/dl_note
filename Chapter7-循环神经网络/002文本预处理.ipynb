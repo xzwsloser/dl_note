{
 "cells": [
  {
   "cell_type": "code",
   "execution_count": 1,
   "id": "de3c4c92-0a5b-4586-8bf9-c4dd624acac7",
   "metadata": {},
   "outputs": [],
   "source": [
    "import collections\n",
    "import re\n",
    "from d2l import torch as d2l"
   ]
  },
  {
   "cell_type": "markdown",
   "id": "6182376b-ea54-42df-8d9a-08ef3110f7dc",
   "metadata": {},
   "source": [
    "# 文本预处理\n",
    "一篇文章可以简单看成一串单词序列或者字符序列, 本节中, 解析文本的常见预处理步骤, 这些步骤包括:\n",
    "1. 将文本作为字符串加载到内存中\n",
    "2. 将字符串拆分为词元(比如单词和字符)\n",
    "3. 建议一个词表, 将拆分的词元映射到数字索引\n",
    "4. 将文本转换为数字索引序列, 方便模型操作"
   ]
  },
  {
   "cell_type": "markdown",
   "id": "54e122d3-0b0d-4752-a94f-5d29d3b7769f",
   "metadata": {},
   "source": [
    "## 读取数据集"
   ]
  },
  {
   "cell_type": "code",
   "execution_count": 2,
   "id": "1db026b4-c87e-4732-9753-f410d64d9eb3",
   "metadata": {},
   "outputs": [
    {
     "name": "stdout",
     "output_type": "stream",
     "text": [
      "# 文本总行数: 3221\n",
      "the time machine by h g wells\n",
      "twinkled and his usually pale face was flushed and animated the\n"
     ]
    }
   ],
   "source": [
    "#@save\n",
    "d2l.DATA_HUB['time_machine'] = (d2l.DATA_URL + 'timemachine.txt',\n",
    "                               '090b5e7e70c295757f55df93cb0a180b9691891a')\n",
    "def read_time_machine(): #@save\n",
    "    with open(d2l.download('time_machine'), 'r') as f:\n",
    "        lines = f.readlines()\n",
    "    return [re.sub('[^A-Za-z]+', ' ', line).strip().lower() for line in lines]\n",
    "lines = read_time_machine()\n",
    "print(f'# 文本总行数: {len(lines)}')\n",
    "print(lines[0])\n",
    "print(lines[10])"
   ]
  },
  {
   "cell_type": "markdown",
   "id": "01837a39-0331-4dfa-a368-7a49265458fe",
   "metadata": {},
   "source": [
    "## 词元化\n",
    "下面的 `tokenize` 函数可以把问本行列表(`lines`)作为输入, 列表中的每一个元素就是一个文本序列, 每一个文本序列可以被拆分为一个词元列表, 词元(`token`)是文本的基本单位(词元就是单词, 也就是一个字符串)"
   ]
  },
  {
   "cell_type": "code",
   "execution_count": 3,
   "id": "713b9311-0e9e-4c37-9756-995d0d579266",
   "metadata": {},
   "outputs": [
    {
     "name": "stdout",
     "output_type": "stream",
     "text": [
      "['the', 'time', 'machine', 'by', 'h', 'g', 'wells']\n",
      "[]\n",
      "[]\n",
      "[]\n",
      "[]\n",
      "['i']\n",
      "[]\n",
      "[]\n",
      "['the', 'time', 'traveller', 'for', 'so', 'it', 'will', 'be', 'convenient', 'to', 'speak', 'of', 'him']\n",
      "['was', 'expounding', 'a', 'recondite', 'matter', 'to', 'us', 'his', 'grey', 'eyes', 'shone', 'and']\n",
      "['twinkled', 'and', 'his', 'usually', 'pale', 'face', 'was', 'flushed', 'and', 'animated', 'the']\n"
     ]
    }
   ],
   "source": [
    "def tokenize(lines, token='word'): #@save\n",
    "    \"\"\"将文本行拆分为单词或者字符词元\"\"\"\n",
    "    if token == 'word':\n",
    "        return [line.split() for line in lines]\n",
    "    elif token == 'char':\n",
    "        return [list(line) for line in lines]\n",
    "    else:\n",
    "        print('unknown token type!')\n",
    "tokens = tokenize(lines)\n",
    "for i in range(11):\n",
    "    print(tokens[i])"
   ]
  },
  {
   "cell_type": "markdown",
   "id": "0a704021-d173-466d-9b3d-e3d61a457085",
   "metadata": {},
   "source": [
    "## 词表\n",
    "词元类型是字符串, 但是模型需要的输入是数字, 所以这一种类型不方便模型使用, 需要构建一个字典, 也叫做词表, 用于将字符串类型的词元映射到从 0 开始的鄂数字索引中 ; 可以先将训练集中的所有文档合并在一起, 对于它们的唯一词元进行统计, 得到的统计结果称为语料 ; 之后根据每一个唯一词元出现的频率分配一个数字索引, 很少出现的词元通常可以溢出从而降低复杂性 ; 同时语料库中不存在或者已经删除的任何词元都将映射到一个特定的位置词元 `<unk>`, 可以正加一个列表用于保存这些被保留的词元, 比如：填充词元（`<pad>`）； 序列开始词元（`<bos>`）； 序列结束词元（`<eos>`）。"
   ]
  },
  {
   "cell_type": "code",
   "execution_count": 28,
   "id": "277fa1de-5321-4b55-bc04-320144a3498b",
   "metadata": {},
   "outputs": [],
   "source": [
    "# 词表\n",
    "def count_corpus(tokens): #@save\n",
    "    \"\"\"统计词元的频率\"\"\"\n",
    "    if len(tokens) == 0 or isinstance(tokens[0], list):\n",
    "        # 展开 tokens\n",
    "        tokens = [token for line in tokens for token in line]\n",
    "    return collections.Counter(tokens) # 返回词元 -> 出现次数的映射\n",
    "c = count_corpus(tokens).items() # 可迭代对象"
   ]
  },
  {
   "cell_type": "code",
   "execution_count": 29,
   "id": "9ebbd2e9-349d-483e-a6cd-67b91eedf1e2",
   "metadata": {},
   "outputs": [],
   "source": [
    "class Vocab: #@save\n",
    "    \"\"\"文本词表\"\"\"\n",
    "    def __init__(self, tokens=None, min_freq=0, reserved_tokens=None):\n",
    "        if tokens is None:\n",
    "            tokens = []\n",
    "        if reserved_tokens is None:\n",
    "            reserved_tokens = []\n",
    "        # 按照出现频率排序\n",
    "        counter = count_corpus(tokens)\n",
    "        self.__token_freqs = sorted(counter.items(), key=lambda x: x[1], reverse=True)\n",
    "        # 未知词元索引为 0\n",
    "        self.idx_to_token = ['<unk>'] + reserved_tokens\n",
    "        self.token_to_idx = {token: idx for idx, token in enumerate(self.idx_to_token)}\n",
    "        for token, freq in self.__token_freqs:\n",
    "            if freq < min_freq: # 超出最小频率不统计\n",
    "                break\n",
    "            if token not in self.token_to_idx:\n",
    "                self.idx_to_token.append(token)\n",
    "                self.token_to_idx[token] = len(self.idx_to_token) - 1\n",
    "    def __len__(self):\n",
    "        return len(self.idx_to_token)\n",
    "    def __getitem__(self, tokens):\n",
    "        if not isinstance(tokens, (list, tuple)):\n",
    "            return self.token_to_idx.get(tokens, self.unk) # 表示未知词元\n",
    "        return [self.__getitem__(token) for token in tokens] # 支持列表, 元组\n",
    "    def to_tokens(self, indices):\n",
    "        if not isinstance(indices, (list, tuple)):\n",
    "            return self.idx_to_token[indices]\n",
    "        return [self.idx_to_token[idx] for idx in indices]\n",
    "    # 表示只读取属性\n",
    "    @property\n",
    "    def unk(self): # 返回未知词元的索引: 0\n",
    "        return 0\n",
    "    @property\n",
    "    def token_freqs(self):\n",
    "        return self.__token_freqs"
   ]
  },
  {
   "cell_type": "code",
   "execution_count": 30,
   "id": "ed0e7c40-2362-4294-8481-82c912e4822e",
   "metadata": {},
   "outputs": [
    {
     "name": "stdout",
     "output_type": "stream",
     "text": [
      "[('<unk>', 0), ('the', 1), ('i', 2), ('and', 3), ('of', 4), ('a', 5), ('to', 6), ('was', 7), ('in', 8), ('that', 9)]\n"
     ]
    }
   ],
   "source": [
    "vocab = Vocab(tokens)\n",
    "print(list(vocab.token_to_idx.items())[:10]) # dict_item 类型"
   ]
  },
  {
   "cell_type": "markdown",
   "id": "82ecb8f0-3c10-4d11-b818-0e74dd7fbba2",
   "metadata": {},
   "source": [
    "## 整合所有功能\n",
    "需要综合以上函数, 并且返回词元索引列表以及 `vocab`(语料库词表), 同时使用字符级别实现文本词元化"
   ]
  },
  {
   "cell_type": "code",
   "execution_count": 38,
   "id": "e4f6aa17-1a8d-4515-854f-8a4d79a61171",
   "metadata": {},
   "outputs": [
    {
     "data": {
      "text/plain": [
       "(170580,\n",
       " 28,\n",
       " ['<unk>',\n",
       "  ' ',\n",
       "  'e',\n",
       "  't',\n",
       "  'a',\n",
       "  'i',\n",
       "  'n',\n",
       "  'o',\n",
       "  's',\n",
       "  'h',\n",
       "  'r',\n",
       "  'd',\n",
       "  'l',\n",
       "  'm',\n",
       "  'u',\n",
       "  'c',\n",
       "  'f',\n",
       "  'w',\n",
       "  'g',\n",
       "  'y',\n",
       "  'p',\n",
       "  'b',\n",
       "  'v',\n",
       "  'k',\n",
       "  'x',\n",
       "  'z',\n",
       "  'j',\n",
       "  'q'])"
      ]
     },
     "execution_count": 38,
     "metadata": {},
     "output_type": "execute_result"
    }
   ],
   "source": [
    "def load_corpus_time_machine(max_tokens=-1): #@save\n",
    "    \"\"\"返回数据集的词元索引列表和词表\"\"\"\n",
    "    lines = read_time_machine()\n",
    "    tokens = tokenize(lines, 'char')\n",
    "    vocab = Vocab(tokens)\n",
    "    corpus = [vocab[token] for line in tokens for token in line]\n",
    "    if max_tokens > 0:\n",
    "        corpus = corpus[:max_tokens]\n",
    "    return corpus, vocab\n",
    "corpus, vocab = load_corpus_time_machine()\n",
    "len(corpus), len(vocab), vocab.idx_to_token # 这里总共 26 种字符 + 未知词元 + 空格"
   ]
  }
 ],
 "metadata": {
  "kernelspec": {
   "display_name": "Python 3 (ipykernel)",
   "language": "python",
   "name": "python3"
  },
  "language_info": {
   "codemirror_mode": {
    "name": "ipython",
    "version": 3
   },
   "file_extension": ".py",
   "mimetype": "text/x-python",
   "name": "python",
   "nbconvert_exporter": "python",
   "pygments_lexer": "ipython3",
   "version": "3.8.20"
  }
 },
 "nbformat": 4,
 "nbformat_minor": 5
}
