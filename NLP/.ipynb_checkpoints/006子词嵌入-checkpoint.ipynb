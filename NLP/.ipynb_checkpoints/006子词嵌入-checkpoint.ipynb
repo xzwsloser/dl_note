{
 "cells": [
  {
   "cell_type": "markdown",
   "id": "e1018275-fabc-4c91-8f82-2ae7569d8ac1",
   "metadata": {},
   "source": [
    "# 子词嵌入\n",
    "> TODO: 这一个部分暂时跳过\n",
    "\n",
    "在不同词元的关系中, 出了语义之间的关系之外还可能存在形式上的关系, 比如 `helps, helped, helping` 这些单词都是同一个单词 `help` 的变型形式 ; 但是针对于这一种关系, 在 `word2vec` 和 `Glove` 中没有对词内部结构进行讨论\n",
    "## fastText模型\n",
    "在 `word2vec` 的跳元模型中, 同一个词的不同变形形式直接使用不同的向量表示, 不需要共享参数, `fastText`模型提出了一种子词嵌入的方式, 子词是一个字符 `n-gram`, `fastText`可以认为是子词级跳元模型, 而非学习词级向量表示, 其中每一个中心词由其词级向量之和表示"
   ]
  }
 ],
 "metadata": {
  "kernelspec": {
   "display_name": "Python 3 (ipykernel)",
   "language": "python",
   "name": "python3"
  },
  "language_info": {
   "codemirror_mode": {
    "name": "ipython",
    "version": 3
   },
   "file_extension": ".py",
   "mimetype": "text/x-python",
   "name": "python",
   "nbconvert_exporter": "python",
   "pygments_lexer": "ipython3",
   "version": "3.8.20"
  }
 },
 "nbformat": 4,
 "nbformat_minor": 5
}
