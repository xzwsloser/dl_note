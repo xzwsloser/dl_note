{
 "cells": [
  {
   "cell_type": "code",
   "execution_count": 2,
   "id": "a1d8c115-fb1f-47bf-b5a5-d0d49fe7313d",
   "metadata": {},
   "outputs": [],
   "source": [
    "import torch\n",
    "import torch.nn as nn"
   ]
  },
  {
   "cell_type": "markdown",
   "id": "d7227e05-7563-424e-a475-215d5f117e43",
   "metadata": {},
   "source": [
    "# 图像卷积"
   ]
  },
  {
   "attachments": {
    "7c907a27-390c-4319-86b4-6eb1d4f01350.png": {
     "image/png": "[encoded data removed]"
    }
   },
   "cell_type": "markdown",
   "id": "fb9dad56-da07-48f7-9ea1-e19ca9924d25",
   "metadata": {},
   "source": [
    "## 互相关运算\n",
    "根据上一节的推导, 其实卷积层的运算并不是严格的卷积运算(这里我感觉可以通过旋转卷积核的方式转换为输入和另外一个矩阵的卷积), 但是感觉这里的互运算很容易理解\n",
    "\n",
    "假设忽略通道(第三维), 那么对于两维数组, 互相关运算过程如下:\n",
    "![image.png](attachment:7c907a27-390c-4319-86b4-6eb1d4f01350.png)\n",
    "此时具体的运算关系如下:\n",
    "$$\n",
    "\\begin{align*}\n",
    "0 \\times 0 + 1 \\times 1 + 3 \\times 2 + 4 \\times 3 &= 19, \\\\\n",
    "1 \\times 0 + 2 \\times 1 + 4 \\times 2 + 5 \\times 3 &= 25, \\\\\n",
    "3 \\times 0 + 4 \\times 1 + 6 \\times 2 + 7 \\times 3 &= 37, \\\\\n",
    "4 \\times 0 + 5 \\times 1 + 7 \\times 2 + 8 \\times 3 &= 43.\n",
    "\\end{align*}\n",
    "$$\n",
    "假设输入大小为 $n_h \\times n_w$, 卷积核大小为 $k_h \\times k_w$, 那么输出的大小为(画图理解即可):\n",
    "$$\n",
    "(n_h - k_h + 1) \\times (n_w - k_w + 1)\n",
    "$$"
   ]
  },
  {
   "cell_type": "code",
   "execution_count": 3,
   "id": "528b0dde-c563-48b6-99d9-fcea98deaf36",
   "metadata": {},
   "outputs": [],
   "source": [
    "# 卷积实现\n",
    "def cov(X, K):\n",
    "    h, w = X.shape[0], X.shape[1]\n",
    "    m, n = K.shape[0], K.shape[1]\n",
    "    Y = torch.zeros(h - m + 1, w - n + 1)\n",
    "    for i in range(Y.shape[0]):\n",
    "        for j in range(Y.shape[1]):\n",
    "            Y[i, j] = (X[i:i+m, j:j+n]*K).sum()\n",
    "    return Y"
   ]
  },
  {
   "cell_type": "code",
   "execution_count": 4,
   "id": "b735bb24-fb10-4760-a928-754b1e8012ed",
   "metadata": {},
   "outputs": [
    {
     "data": {
      "text/plain": [
       "tensor([[19., 25.],\n",
       "        [37., 43.]])"
      ]
     },
     "execution_count": 4,
     "metadata": {},
     "output_type": "execute_result"
    }
   ],
   "source": [
    "X = torch.arange(9).reshape((3, 3))\n",
    "K = torch.arange(4).reshape((2, 2))\n",
    "Y = cov(X, K)\n",
    "Y"
   ]
  },
  {
   "cell_type": "markdown",
   "id": "4fc5ed01-edc9-4099-9cc5-cb9273869080",
   "metadata": {},
   "source": [
    "## 卷积层\n",
    "卷积层对输入和卷积核权重进行互相关运算, 并且添加标量偏置之后产生输出, 所以被训练参数为卷积核权重和标量偏置, 可以利用上面定义的函数来实现卷积层"
   ]
  },
  {
   "cell_type": "code",
   "execution_count": 5,
   "id": "daaa7cb4-c22d-40d0-863c-52f882145e73",
   "metadata": {},
   "outputs": [],
   "source": [
    "# 实现卷积层 二维\n",
    "class Conv2D(nn.Module):\n",
    "    def __init__(self, kernel_size):\n",
    "        super().__init__()\n",
    "        self.weight = nn.Parameter(torch.rand(kernel_size))\n",
    "        self.bias = nn.Parameter(torch.zeros(1))\n",
    "    def forward(self, X):\n",
    "        return cov(X, self.weight) + self.bias"
   ]
  },
  {
   "cell_type": "code",
   "execution_count": 6,
   "id": "330d7265-36c9-402b-bd97-28e10e78f2e0",
   "metadata": {},
   "outputs": [
    {
     "data": {
      "text/plain": [
       "tensor([[20., 26.],\n",
       "        [38., 44.]], grad_fn=<AddBackward0>)"
      ]
     },
     "execution_count": 6,
     "metadata": {},
     "output_type": "execute_result"
    }
   ],
   "source": [
    "net = Conv2D((2, 2))\n",
    "# 注意网络参数初始化方式, 要么使用 nn.init 中的函数\n",
    "# 要么直接 net.element.data = 直接初始化\n",
    "net.weight.data = K.type(torch.float32)\n",
    "nn.init.constant_(net.bias, 1)\n",
    "Y = net(X)\n",
    "Y"
   ]
  },
  {
   "cell_type": "markdown",
   "id": "a4ed68ce-3c70-430a-8125-095e0e3b84f0",
   "metadata": {},
   "source": [
    "## 图像中目标的边缘检测\n",
    "比如对于一个大小为 $6 \\times 8$大小的黑白图像, 需要检测图像的边界"
   ]
  },
  {
   "cell_type": "code",
   "execution_count": 7,
   "id": "db7a1637-4a72-4c83-9c79-6a53907a1d36",
   "metadata": {},
   "outputs": [
    {
     "data": {
      "text/plain": [
       "tensor([[1., 1., 0., 0., 0., 0., 1., 1.],\n",
       "        [1., 1., 0., 0., 0., 0., 1., 1.],\n",
       "        [1., 1., 0., 0., 0., 0., 1., 1.],\n",
       "        [1., 1., 0., 0., 0., 0., 1., 1.],\n",
       "        [1., 1., 0., 0., 0., 0., 1., 1.],\n",
       "        [1., 1., 0., 0., 0., 0., 1., 1.]])"
      ]
     },
     "execution_count": 7,
     "metadata": {},
     "output_type": "execute_result"
    }
   ],
   "source": [
    "X = torch.ones((6, 8))\n",
    "X[:, 2:6] = 0\n",
    "X"
   ]
  },
  {
   "cell_type": "code",
   "execution_count": 8,
   "id": "99d5e8ad-bf96-440c-9898-26fe4f0a552a",
   "metadata": {},
   "outputs": [
    {
     "data": {
      "text/plain": [
       "tensor([[ 0.,  1.,  0.,  0.,  0., -1.,  0.],\n",
       "        [ 0.,  1.,  0.,  0.,  0., -1.,  0.],\n",
       "        [ 0.,  1.,  0.,  0.,  0., -1.,  0.],\n",
       "        [ 0.,  1.,  0.,  0.,  0., -1.,  0.],\n",
       "        [ 0.,  1.,  0.,  0.,  0., -1.,  0.],\n",
       "        [ 0.,  1.,  0.,  0.,  0., -1.,  0.]])"
      ]
     },
     "execution_count": 8,
     "metadata": {},
     "output_type": "execute_result"
    }
   ],
   "source": [
    "K = torch.tensor([[1.0, -1.0]])\n",
    "Y = cov(X, K)\n",
    "Y"
   ]
  },
  {
   "cell_type": "markdown",
   "id": "a64fc905-5494-415e-aaa9-94b38003dc1d",
   "metadata": {},
   "source": [
    "这里的原理就是通过互相关操作, 相邻的位置如果像素相同, 那么得到 `0`, 如果像素不同, 那么就会得到 `-1`"
   ]
  },
  {
   "cell_type": "markdown",
   "id": "e294b4f2-e179-42ad-9d46-6ccc9e8d3cad",
   "metadata": {},
   "source": [
    "## 学习卷积核\n",
    "主要是学习到卷积核的权重等参数"
   ]
  },
  {
   "cell_type": "code",
   "execution_count": 11,
   "id": "5a8a42c1-576b-43c9-8ec7-928fbd630107",
   "metadata": {},
   "outputs": [
    {
     "name": "stdout",
     "output_type": "stream",
     "text": [
      "epoch 2, loss 6.634\n",
      "epoch 4, loss 2.210\n",
      "epoch 6, loss 0.820\n",
      "epoch 8, loss 0.322\n",
      "epoch 10, loss 0.129\n"
     ]
    }
   ],
   "source": [
    "# 构造卷积层, 1输出通道以及形状为(1,2)的卷积核\n",
    "conv2d = nn.Conv2d(1, 1, kernel_size=(1, 2), bias=False) # 注意这里的 kernel_size 设置\n",
    "X = X.reshape((1, 1, 6, 8))\n",
    "Y = Y.reshape((1, 1, 6, 7))\n",
    "lr = 3e-2\n",
    "for i in range(10):\n",
    "    Y_hat = conv2d(X)\n",
    "    loss = (Y_hat - Y)**2\n",
    "    conv2d.zero_grad()\n",
    "    loss.sum().backward()\n",
    "    conv2d.weight.data[:] -= lr*conv2d.weight.grad\n",
    "    if (i + 1) % 2 == 0:\n",
    "        print(f'epoch {i + 1}, loss {loss.sum():.3f}')"
   ]
  },
  {
   "cell_type": "code",
   "execution_count": 12,
   "id": "0acaa82f-fbb2-438f-b33c-ee6d9aa77e2d",
   "metadata": {},
   "outputs": [
    {
     "data": {
      "text/plain": [
       "tensor([[ 1.0294, -0.9556]])"
      ]
     },
     "execution_count": 12,
     "metadata": {},
     "output_type": "execute_result"
    }
   ],
   "source": [
    "conv2d.weight.data.reshape((1, 2)) # 这里可以得到对应的卷积核"
   ]
  },
  {
   "cell_type": "markdown",
   "id": "7214f87d-a727-4e03-b897-d5d7710dca36",
   "metadata": {},
   "source": [
    "## 互相关和卷积\n",
    "还是上面提到的, 互相关运算和卷积运算其实几乎可以等价, 把互相关运算中的卷积核在水平和垂直方向上翻转(旋转 180 度), 就可以得到卷积运算中的卷积核"
   ]
  },
  {
   "cell_type": "markdown",
   "id": "f6a7d2e7-5137-4cba-9000-773a3e375810",
   "metadata": {},
   "source": [
    "## 特征映射和感受野\n",
    "输出的卷积层可以叫特征映射,也可以视为一个输入映射到下一层的空间维度的转换器, 在卷积神经网络中, 对于某一层的任意元素 $x$, 感受野就是前向传播过程中可能影响 $x$ 计算的所有元素, 比如对于上面提到的隐藏层 $\\mathbf{Y}$ 中的第一个元素, 它的感受野就是输入 $\\mathbf{X}$ 中对应为是的四个元素, 如果通过一定的运算, 最终得到单个元素 $z$, 那么 $z$ 的感受野就是 $\\mathbf{Y}$ 中的四个元素以及 $\\mathbf{X}$ 中的所有元素"
   ]
  }
 ],
 "metadata": {
  "kernelspec": {
   "display_name": "Python 3 (ipykernel)",
   "language": "python",
   "name": "python3"
  },
  "language_info": {
   "codemirror_mode": {
    "name": "ipython",
    "version": 3
   },
   "file_extension": ".py",
   "mimetype": "text/x-python",
   "name": "python",
   "nbconvert_exporter": "python",
   "pygments_lexer": "ipython3",
   "version": "3.12.7"
  }
 },
 "nbformat": 4,
 "nbformat_minor": 5
}
