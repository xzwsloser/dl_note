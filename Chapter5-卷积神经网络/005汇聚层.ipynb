{
 "cells": [
  {
   "cell_type": "code",
   "execution_count": 2,
   "id": "87e4499d-6fde-4f1e-9514-f3479bb337f5",
   "metadata": {},
   "outputs": [],
   "source": [
    "import torch\n",
    "import torch.nn as nn\n",
    "from d2l import torch as d2l"
   ]
  },
  {
   "cell_type": "markdown",
   "id": "fdd92221-2204-4b85-b37e-f2aa2c7808e9",
   "metadata": {},
   "source": [
    "# 汇聚层\n",
    "再处理图像的时候, 希望可以逐渐降低隐藏表示的空间分辨率、聚集信息, 这样可以在神经网络中层叠的上升, 每一个神经元对其敏感的感受野(输入)越大\n",
    "\n",
    "计算机视觉中的任务通常和全局的图像问题相关, 并且最后一层的神经元应该对整个输入的全局敏感,也就是最终的结果需要聚合全局信息, 把卷积图层的优势保保留在中间层\n",
    "\n",
    "同时当检测较底层的特征的时候, 希望保证某种程度上的平移不变性, 比如对于图像 $X$, 进行单像素的移动因该不产生任何影响, 也就是 $Z[i, j] = X[i, j + 1]$, 则新图像 $Z$ 的输出可能不相同\n",
    "\n",
    "汇聚层(pooling, 池化层)的作用: 降低卷积层对位置的敏感性, 同时降低对空间采样的敏感性(聚集全局图像)"
   ]
  },
  {
   "attachments": {
    "8f5c037b-d2be-4dd0-9c62-587c9d29e00b.png": {
     "image/png": "[encoded data removed]"
    }
   },
   "cell_type": "markdown",
   "id": "db2164ce-77b7-4bb4-9e57-5d9b9792bf25",
   "metadata": {},
   "source": [
    "## 最大汇聚层和平均汇聚层\n",
    "汇聚层运算符使用一个固定形状的窗口组成, 该窗口根据其步幅大小再输入的所有区域中滑动, 并且为固定形状窗口(聚集窗口)遍历的每一个位置计算一个输出 ; 同时池运算是固定的, 通常可以计算汇聚窗口中所有元素的平均值或者最大值, 这些操作对应的汇聚层佳作最大汇聚层和平均汇聚层\n",
    "\n",
    "比如对于最大汇聚层, 运算过程如下:\n",
    "![image.png](attachment:8f5c037b-d2be-4dd0-9c62-587c9d29e00b.png)\n",
    "\n",
    "同时汇聚窗口形状为 $p \\times q$的汇聚层称为 $p \\times q$汇聚层, 汇聚操作称为 $p \\times q$汇聚\n",
    "\n",
    "可以发现, 对于这一种汇聚操作, 无论 $X[i, j]$ 和 $X[i, j + 1]$ 的值是否相同, 汇聚层的输出始终不变(将地看了对于位置和空间采样的敏感性), 同时对于单通道单输出特征而言, 如果输入图像大小为 $h \\times w$, 同时汇聚层大小为 $p \\times q$, 那么输出大小为 $(h - p + 1) \\times (w  - q + 1)$"
   ]
  },
  {
   "cell_type": "code",
   "execution_count": 6,
   "id": "7ecc366f-21ea-4a0e-b3e2-b0f4a58cfcb5",
   "metadata": {},
   "outputs": [],
   "source": [
    "# 模拟汇聚层\n",
    "def pool2d(X, pool_size, mode='max'):\n",
    "    p_h, p_w = pool_size\n",
    "    Y = torch.zeros((X.shape[0] - p_h + 1, X.shape[1] - p_w + 1))\n",
    "    for i in range(Y.shape[0]):\n",
    "        for j in range(Y.shape[1]):\n",
    "            if mode == 'max':\n",
    "                Y[i, j] = X[i:i+p_h, j:j+p_w].max()\n",
    "            elif mode == 'avg':\n",
    "                Y[i, j] = X[i:i+p_h, j:j+p_w].mean()\n",
    "    return Y"
   ]
  },
  {
   "cell_type": "code",
   "execution_count": 7,
   "id": "0960484e-d309-48f7-bf7c-b50db58889ba",
   "metadata": {},
   "outputs": [
    {
     "data": {
      "text/plain": [
       "tensor([[4., 5.],\n",
       "        [7., 8.]])"
      ]
     },
     "execution_count": 7,
     "metadata": {},
     "output_type": "execute_result"
    }
   ],
   "source": [
    "X = torch.arange(9.0).reshape((3, 3))\n",
    "pool2d(X, (2, 2)) # 注意汇聚层相当于就是对于输入本身的处理, 没有加权"
   ]
  },
  {
   "cell_type": "code",
   "execution_count": 8,
   "id": "64e8db52-6224-4ee4-8472-04d5e186afbe",
   "metadata": {},
   "outputs": [
    {
     "data": {
      "text/plain": [
       "tensor([[2., 3.],\n",
       "        [5., 6.]])"
      ]
     },
     "execution_count": 8,
     "metadata": {},
     "output_type": "execute_result"
    }
   ],
   "source": [
    "pool2d(X, (2, 2), mode='avg')"
   ]
  },
  {
   "cell_type": "markdown",
   "id": "745a9c49-7613-4b66-b32c-1ea82cdf26f0",
   "metadata": {},
   "source": [
    "## 填充和步幅\n",
    "其实汇聚层和卷积层具有相似的特点, 无论是填充还是步幅还是多通道属性都是类似的 ; 不同之处仅仅在于对于 \"感受野\"(作用的指定范围)内的元素的操作不同, 卷积层的操作是加权求和, 汇聚层的操作是最大化或者求解平均值 ; 所以对于输出图像大小的求解方式还是类似于池化层的求解"
   ]
  },
  {
   "cell_type": "code",
   "execution_count": 18,
   "id": "410d8c95-a5d8-449b-995f-ad9ddf5bf3c6",
   "metadata": {},
   "outputs": [
    {
     "data": {
      "text/plain": [
       "tensor([[[[ 0.,  1.,  2.,  3.],\n",
       "          [ 4.,  5.,  6.,  7.],\n",
       "          [ 8.,  9., 10., 11.],\n",
       "          [12., 13., 14., 15.]]]])"
      ]
     },
     "execution_count": 18,
     "metadata": {},
     "output_type": "execute_result"
    }
   ],
   "source": [
    "X = torch.arange(16, dtype=torch.float32).reshape((1, 1, 4, 4))\n",
    "X"
   ]
  },
  {
   "cell_type": "code",
   "execution_count": 19,
   "id": "1660c1f2-9b3a-4570-9bc8-5bec26eb46f5",
   "metadata": {},
   "outputs": [
    {
     "data": {
      "text/plain": [
       "tensor([[[[10.]]]])"
      ]
     },
     "execution_count": 19,
     "metadata": {},
     "output_type": "execute_result"
    }
   ],
   "source": [
    "# 默认情况下 步幅 = 汇聚窗口大小, 这里设置汇聚窗口大小 kernel_size=(3,3)\n",
    "pool2d = nn.MaxPool2d(3) # 对应的汇聚层是二维的\n",
    "pool2d(X)"
   ]
  },
  {
   "cell_type": "code",
   "execution_count": 20,
   "id": "89557c16-b590-4f14-b0e9-83988cee33a9",
   "metadata": {},
   "outputs": [
    {
     "data": {
      "text/plain": [
       "tensor([[[[ 5.,  7.],\n",
       "          [13., 15.]]]])"
      ]
     },
     "execution_count": 20,
     "metadata": {},
     "output_type": "execute_result"
    }
   ],
   "source": [
    "# 指定 padding 和 stride\n",
    "pool2d = nn.MaxPool2d(3, padding=1, stride=2)\n",
    "# 宽: 4 + 1*2 - 3 + 2 / 2 = 5 / 2 = 2 \n",
    "# 高: 4 + 1*2 - 3 + 2 / 2 = 5 / 2 = 2\n",
    "pool2d(X)  "
   ]
  },
  {
   "cell_type": "code",
   "execution_count": 21,
   "id": "c800e586-e539-4c81-a486-c724e285eddb",
   "metadata": {},
   "outputs": [
    {
     "data": {
      "text/plain": [
       "(tensor([[[[ 0.,  1.,  2.,  3.],\n",
       "           [ 4.,  5.,  6.,  7.],\n",
       "           [ 8.,  9., 10., 11.],\n",
       "           [12., 13., 14., 15.]],\n",
       " \n",
       "          [[ 1.,  2.,  3.,  4.],\n",
       "           [ 5.,  6.,  7.,  8.],\n",
       "           [ 9., 10., 11., 12.],\n",
       "           [13., 14., 15., 16.]]]]),\n",
       " torch.Size([1, 2, 4, 4]))"
      ]
     },
     "execution_count": 21,
     "metadata": {},
     "output_type": "execute_result"
    }
   ],
   "source": [
    "# torch.cat 再现有维度上拼接, torch.stack 再新创建的维度上拼接\n",
    "X = torch.cat((X, X + 1), dim=1)\n",
    "X, X.shape # 模拟双通道的情况"
   ]
  },
  {
   "cell_type": "code",
   "execution_count": 22,
   "id": "2aa464a0-99d9-4e29-b51a-73712a30dec6",
   "metadata": {},
   "outputs": [
    {
     "data": {
      "text/plain": [
       "tensor([[[[ 5.,  7.],\n",
       "          [13., 15.]],\n",
       "\n",
       "         [[ 6.,  8.],\n",
       "          [14., 16.]]]])"
      ]
     },
     "execution_count": 22,
     "metadata": {},
     "output_type": "execute_result"
    }
   ],
   "source": [
    "pool2d = nn.MaxPool2d(3, padding=1, stride=2)\n",
    "pool2d(X)"
   ]
  }
 ],
 "metadata": {
  "kernelspec": {
   "display_name": "Python 3 (ipykernel)",
   "language": "python",
   "name": "python3"
  },
  "language_info": {
   "codemirror_mode": {
    "name": "ipython",
    "version": 3
   },
   "file_extension": ".py",
   "mimetype": "text/x-python",
   "name": "python",
   "nbconvert_exporter": "python",
   "pygments_lexer": "ipython3",
   "version": "3.8.20"
  }
 },
 "nbformat": 4,
 "nbformat_minor": 5
}
