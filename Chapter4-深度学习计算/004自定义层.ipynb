{
 "cells": [
  {
   "cell_type": "code",
   "execution_count": 1,
   "id": "51d37d4b-7bb6-4125-86fa-ced55ee2f72b",
   "metadata": {},
   "outputs": [],
   "source": [
    "import torch\n",
    "import torch.nn as nn\n",
    "import torch.nn.functional as F"
   ]
  },
  {
   "cell_type": "markdown",
   "id": "e2b6a541-de96-415a-842e-5a165ac0fcfa",
   "metadata": {},
   "source": [
    "# 自定义层\n",
    "在 `PyTorch` 中提供了不同的层, 比如 `nn.Linear` 等, 但是当处理不同的数据的时候就需要自定义层"
   ]
  },
  {
   "cell_type": "markdown",
   "id": "3e397022-6066-4f11-a1be-9c87abf0cc01",
   "metadata": {},
   "source": [
    "## 不带参数的层\n",
    "这里的层可以看成一种操作, 层可以不用带有参数(此时等价于基本的代数运算), 此时定义的层等价于 `nn.ReLU` 这一种运算, 并且此时定义的层可以利用 `nn.Sequential` 串联组成网络:"
   ]
  },
  {
   "cell_type": "code",
   "execution_count": 7,
   "id": "10b45d92-c6d3-41c4-9eb1-5db3811278d8",
   "metadata": {},
   "outputs": [],
   "source": [
    "class CenteredLayer(nn.Module):\n",
    "    def __init__(self):\n",
    "        super().__init__()\n",
    "    def forward(self, X):\n",
    "        return X - X.mean()"
   ]
  },
  {
   "cell_type": "code",
   "execution_count": 8,
   "id": "6f0d8f48-b1d7-4098-8d49-96b1f3acf618",
   "metadata": {},
   "outputs": [
    {
     "data": {
      "text/plain": [
       "tensor([-2., -1.,  0.,  1.,  2.])"
      ]
     },
     "execution_count": 8,
     "metadata": {},
     "output_type": "execute_result"
    }
   ],
   "source": [
    "layer = CenteredLayer()\n",
    "layer(torch.FloatTensor([1, 2, 3, 4, 5]))"
   ]
  },
  {
   "cell_type": "markdown",
   "id": "bed1e568-19be-4252-8ca8-0bc78f139f11",
   "metadata": {},
   "source": [
    "## 带参数的层\n",
    "带参数的层, 比如 `nn.Linear`, 这些参数可以通过训练进行调整, 可以使用内置函数 `nn.Parameter` 来创建参数, 这些函数提供一些基本的管理功能, 比如管理访问、初始化、共享、保存和加载模型参数等, 这样可以不需要为每一个自定义层编写自定义的序列化流程, 带有参数的自定义层也可以应用在 `nn.Sequential` 中组成网络"
   ]
  },
  {
   "cell_type": "code",
   "execution_count": 13,
   "id": "492f059b-4e54-4f35-b0dd-95495e01ac55",
   "metadata": {},
   "outputs": [],
   "source": [
    "class MyLinear(nn.Module):\n",
    "    def __init__(self, in_utils, utils):\n",
    "        super().__init__()\n",
    "        self.weight = nn.Parameter(torch.randn(in_utils, utils))\n",
    "        self.bias = nn.Parameter(torch.randn(utils,))\n",
    "    def forward(self, X):\n",
    "        linear = torch.matmul(X, self.weight.data) + self.bias.data\n",
    "        return F.relu(linear)"
   ]
  },
  {
   "cell_type": "code",
   "execution_count": 14,
   "id": "4c5035ce-a968-4b6e-b225-122f4466ac1e",
   "metadata": {},
   "outputs": [
    {
     "data": {
      "text/plain": [
       "Parameter containing:\n",
       "tensor([[ 0.8422, -1.9796, -0.3095],\n",
       "        [ 0.1486, -2.0506, -0.8084],\n",
       "        [-0.7873, -0.5926,  0.5124],\n",
       "        [-1.5876, -1.2265,  0.4061],\n",
       "        [ 0.4098, -0.0070, -0.7730]], requires_grad=True)"
      ]
     },
     "execution_count": 14,
     "metadata": {},
     "output_type": "execute_result"
    }
   ],
   "source": [
    "linear = MyLinear(5, 3)\n",
    "linear.weight"
   ]
  }
 ],
 "metadata": {
  "kernelspec": {
   "display_name": "Python 3 (ipykernel)",
   "language": "python",
   "name": "python3"
  },
  "language_info": {
   "codemirror_mode": {
    "name": "ipython",
    "version": 3
   },
   "file_extension": ".py",
   "mimetype": "text/x-python",
   "name": "python",
   "nbconvert_exporter": "python",
   "pygments_lexer": "ipython3",
   "version": "3.8.20"
  }
 },
 "nbformat": 4,
 "nbformat_minor": 5
}
