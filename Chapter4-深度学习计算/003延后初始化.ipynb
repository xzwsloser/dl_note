{
 "cells": [
  {
   "cell_type": "code",
   "execution_count": 1,
   "id": "3d7297dc-e134-4221-a6af-d8051c8bc026",
   "metadata": {},
   "outputs": [],
   "source": [
    "import torch\n",
    "import torch.nn as nn"
   ]
  },
  {
   "cell_type": "markdown",
   "id": "62e8ebea-4d3a-47cc-bfb7-ee592588ce55",
   "metadata": {},
   "source": [
    "# 延后初始化\n",
    "延后初始化表示一开始不需要确定网络架构中的具体参数(比如输入维度、输出维度等特征), 这里可以使用框架的延后初始化, 也就是直到数据第一次通过模型传递的时候, 框架才会动态推断出每层大小\n",
    "\n",
    "比如对于卷积神经网络, 由于输入维度将影响每一个后续层的维度, 这样可以在编写代码的时候不需要直到维度就可以设置参数了, 可以简化定理定义和修改模型的任务"
   ]
  },
  {
   "cell_type": "markdown",
   "id": "684e46ee-3d02-4997-8d92-272ec256bf6a",
   "metadata": {},
   "source": [
    "## 实例化网络\n",
    "在 `PyTorch` 中可以使用 `nn.LazyLinear` 来表示懒加载的线性层"
   ]
  },
  {
   "cell_type": "code",
   "execution_count": 2,
   "id": "32220a86-181e-483e-bd99-90159d0563b8",
   "metadata": {},
   "outputs": [
    {
     "data": {
      "text/plain": [
       "Sequential(\n",
       "  (0): LazyLinear(in_features=0, out_features=256, bias=True)\n",
       "  (1): ReLU()\n",
       "  (2): LazyLinear(in_features=0, out_features=10, bias=True)\n",
       ")"
      ]
     },
     "execution_count": 2,
     "metadata": {},
     "output_type": "execute_result"
    }
   ],
   "source": [
    "net = nn.Sequential(nn.LazyLinear(256), nn.ReLU(), nn.LazyLinear(10))\n",
    "net"
   ]
  },
  {
   "cell_type": "code",
   "execution_count": 3,
   "id": "8b31d699-e511-4335-997d-2ce3ec7b3fff",
   "metadata": {},
   "outputs": [
    {
     "data": {
      "text/plain": [
       "tensor([[ 0.1981, -0.1407, -0.0044,  0.1263,  0.1106, -0.0069, -0.2742, -0.0275,\n",
       "          0.0444,  0.1432],\n",
       "        [ 0.0979, -0.2063,  0.0053,  0.1125,  0.2722, -0.0110, -0.3106, -0.0310,\n",
       "          0.0548,  0.0484]], grad_fn=<AddmmBackward0>)"
      ]
     },
     "execution_count": 3,
     "metadata": {},
     "output_type": "execute_result"
    }
   ],
   "source": [
    "X = torch.rand(2, 20)\n",
    "net(X)"
   ]
  },
  {
   "cell_type": "code",
   "execution_count": 4,
   "id": "c92c4fe2-2ea5-4a61-8dc2-057299ef0d70",
   "metadata": {},
   "outputs": [
    {
     "data": {
      "text/plain": [
       "Sequential(\n",
       "  (0): Linear(in_features=20, out_features=256, bias=True)\n",
       "  (1): ReLU()\n",
       "  (2): Linear(in_features=256, out_features=10, bias=True)\n",
       ")"
      ]
     },
     "execution_count": 4,
     "metadata": {},
     "output_type": "execute_result"
    }
   ],
   "source": [
    "net"
   ]
  }
 ],
 "metadata": {
  "kernelspec": {
   "display_name": "Python 3 (ipykernel)",
   "language": "python",
   "name": "python3"
  },
  "language_info": {
   "codemirror_mode": {
    "name": "ipython",
    "version": 3
   },
   "file_extension": ".py",
   "mimetype": "text/x-python",
   "name": "python",
   "nbconvert_exporter": "python",
   "pygments_lexer": "ipython3",
   "version": "3.8.20"
  }
 },
 "nbformat": 4,
 "nbformat_minor": 5
}
