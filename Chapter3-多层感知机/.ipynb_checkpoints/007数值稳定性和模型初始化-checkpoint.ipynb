{
 "cells": [
  {
   "cell_type": "code",
   "execution_count": 13,
   "id": "80d4b7a0-05cc-473c-bad6-37fc9fd08478",
   "metadata": {},
   "outputs": [],
   "source": [
    "%matplotlib inline\n",
    "import torch\n",
    "import matplotlib.pyplot as plt\n",
    "import numpy as np"
   ]
  },
  {
   "cell_type": "markdown",
   "id": "ae2837d9-a32f-41a2-aead-7eef52b9fb83",
   "metadata": {},
   "source": [
    "# 数值稳定性和模型初始化\n",
    "模型初始化可能和优化算法的速度有一定的关系, 同时如果使用的初始化参数不当, 可能会导致训练过程中出现 **梯度爆炸** 或 **梯度消失**的问题"
   ]
  },
  {
   "cell_type": "markdown",
   "id": "a8b1ddfe-66b5-4c0b-8aee-d0a6ea02dd09",
   "metadata": {},
   "source": [
    "## 梯度爆炸和梯度消失\n",
    "不妨考虑一个具有 $\\mathbf{L}$ 层, 输入 $\\mathbf{x}$ 和输出 $\\mathbf{o}$ 的深度网络, 每一层 $l$ 由变换 $f_l$ 定义, 该变换的权重为 $\\mathbf{W}^{(l)}$, 隐藏变量为 $\\mathbf{h}^{(l)}$, 其中 $\\mathbf{h}^{(0)} = \\mathbf{x}$, 所以网络可以表示为:\n",
    "$$\n",
    "\\mathbf{h}^{(l)} = f_l\\left(\\mathbf{h}^{(l-1)}\\right), \\quad \\text{因此} \\quad \\mathbf{o} = f_L \\circ \\ldots \\circ f_1(\\mathbf{x}).\n",
    "$$\n",
    "其中 $f_l$可能表示线性函数也可能表示其他函数等, 所以根据反向传播公式可以得到:\n",
    "$$\n",
    "\\partial_{\\mathbf{W}^{(l)}} \\mathbf{o} = \\underbrace{\\partial_{\\mathbf{h}^{(L-1)}} \\mathbf{h}^{(L)}}_{\\mathbf{M}^{(L)} \\stackrel{\\text{def}}{=}} \\cdots \\underbrace{\\partial_{\\mathbf{h}^{(l)}} \\mathbf{h}^{(l+1)}}_{\\mathbf{M}^{(l+1)} \\stackrel{\\text{def}}{=}} \\underbrace{\\partial_{\\mathbf{W}^{(l)}} \\mathbf{h}^{(l)}}_{\\mathbf{v}^{(l)} \\stackrel{\\text{def}}{=}}\n",
    "$$\n",
    "所以该梯度是一个 $L - l$ 个矩阵 $\\mathbf{M}^{(L)} ... \\mathbf{M}^{(l + 1)}$ 和一个梯度向量 $\\mathbf{v}^{(l)}$的乘积, 但是可能其中一些变量很大, 另外一些很小, 即使转换到对数进行计算依然可能存在这些问题, 这些问题影响了梯度的稳定性, 不稳定梯度也可能影响优化算法的稳定向, 可能导致梯度爆炸(参数更新过大, 破坏了模型的稳定收敛), 或者导致梯度消失问题(参数更新过小, 在每一次更新的时候几乎都不会移动), 导致模型无法学习"
   ]
  },
  {
   "cell_type": "markdown",
   "id": "7248bf0f-6673-4e2c-bc2b-99a2d6c05ae1",
   "metadata": {},
   "source": [
    "### 梯度消失\n",
    "对于激活函数 $sigmoid(x) = \\frac{1}{1 + \\exp(-x)}$, 类似于阈值函数, 可以发现 `sigmoid`函数的导数在参数过大或者参数过小的时候可能会导致导数(导数表示变化率, 梯度表示变化方向)为 0, 从而可能导致梯度消失问题(此时参数无法得到更新, 每一次更新的时候几乎不会移动), 导致模型无法学习"
   ]
  },
  {
   "cell_type": "code",
   "execution_count": 15,
   "id": "89a846b1-afef-4950-9476-03dcfb2efecc",
   "metadata": {},
   "outputs": [
    {
     "data": {
      "image/png": "[encoded data removed]",
      "text/plain": [
       "<Figure size 450x250 with 1 Axes>"
      ]
     },
     "metadata": {},
     "output_type": "display_data"
    }
   ],
   "source": [
    "# 模拟 sigmoid 函数导致的梯度问题\n",
    "x = torch.arange(-8.0, 8.0, 0.1, requires_grad=True)\n",
    "y = torch.sigmoid(x)\n",
    "y.backward(torch.ones_like(x)) # 表示对于 x 中的每一个元素求导(\\partial (y_1 + ... + y_n))/ x_i\n",
    "plt.figure(figsize=(4.5, 2.5))\n",
    "plt.plot(x.detach().numpy(), x.grad.numpy(),label= 'gradient')\n",
    "plt.plot(x.detach().numpy(), y.detach().numpy(), label='sigmoid')\n",
    "plt.grid()\n",
    "plt.legend(loc='best')\n",
    "plt.show()"
   ]
  },
  {
   "cell_type": "markdown",
   "id": "31950518-bd1a-4bfe-b54a-82902b1fd70a",
   "metadata": {},
   "source": [
    "可以发现当  `sigmoid` 函数的输入很大或者很小的时候, 梯度就会消失, 此外, 当反向传播通过很多层的时候, 除非在刚刚好的位置, 这些地方的 `sigmoid`函数输入接近于 `0`, 否则整个乘积的梯度可能会消失, 所以一般采用更加稳定的 `ReLU` 系列函数"
   ]
  },
  {
   "cell_type": "markdown",
   "id": "fd56aa3b-2c2d-4c9c-a9db-a0947ed6865b",
   "metadata": {},
   "source": [
    "### 梯度爆炸\n",
    "梯度爆炸是因为多个矩阵相乘的过程中, 可能某些比较大的特征参数相乘最终导致梯度过大(数据的方差可能对于这一个过程产生影响)"
   ]
  },
  {
   "cell_type": "code",
   "execution_count": 16,
   "id": "57af7e1d-106e-482a-831e-fccd5014c5d9",
   "metadata": {},
   "outputs": [
    {
     "name": "stdout",
     "output_type": "stream",
     "text": [
      "sigle matrix: \n",
      " tensor([[-0.3721, -1.4661, -0.7364, -0.5415],\n",
      "        [ 0.8014,  0.2982, -1.3422,  0.1103],\n",
      "        [ 0.3052, -2.2333,  0.9178, -1.4830],\n",
      "        [-0.1361,  0.6862, -0.0278, -1.1361]])\n",
      "after 100 matrix: \n",
      " tensor([[ 2.1767e+20,  1.6052e+20, -2.2660e+20,  2.5460e+20],\n",
      "        [-4.8702e+18, -3.5918e+18,  5.0700e+18, -5.6967e+18],\n",
      "        [ 7.1861e+20,  5.2996e+20, -7.4810e+20,  8.4055e+20],\n",
      "        [ 1.9116e+20,  1.4098e+20, -1.9901e+20,  2.2360e+20]])\n"
     ]
    }
   ],
   "source": [
    "# 模拟梯度爆炸, 生成 100 个高斯随机矩阵, 并且把它们与某一个矩阵相乘\n",
    "M = torch.normal(0, 1, size=(4, 4))\n",
    "print('sigle matrix: \\n', M)\n",
    "for i in range(100):\n",
    "    M = torch.mm(M, torch.normal(0, 1, size=(4, 4))) # torch.mm 用于二维矩阵相乘\n",
    "print('after 100 matrix: \\n', M)"
   ]
  },
  {
   "cell_type": "markdown",
   "id": "3b48b046-5895-4d4c-9877-26965eadd101",
   "metadata": {},
   "source": [
    "可以发现一开始很小的数据, 经过多次相乘之后得到了很大的数据, 这也是梯度爆炸可能产生的原因"
   ]
  },
  {
   "cell_type": "markdown",
   "id": "50fdf384-ae95-4641-8705-8e19fb12245c",
   "metadata": {},
   "source": [
    "### 打破对称性\n",
    "在一个线性模型或者多层感知机模型中, 对于单个隐藏单元, 起出现的位置可能不是那么重要(考虑这一个隐藏单元所在的层前面的层和后面的层之间的关系), 所以这里体现了神经网络设计过程中参数化故有的对称性\n",
    "\n",
    "假设把隐藏层所由参数初始化为 $\\mathbf{W}^{(l)} = c$, 那么无论是在前项传播过程中还是在反向传播的过程中, 所有的隐藏单元的值都是一样的, 无法破坏这一种对称性, 从而导致网络的表达能力缺失, 使用小批量随机梯度下降无法打破这一种对称性, 但是使用暂退法和正则化可以"
   ]
  },
  {
   "cell_type": "markdown",
   "id": "c3c43f60-adc7-4a15-9c4e-bc44c2a15654",
   "metadata": {},
   "source": [
    "## 参数初始化"
   ]
  },
  {
   "cell_type": "markdown",
   "id": "c1c2c2ca-46ba-40ce-b312-da20ccc3b7de",
   "metadata": {},
   "source": [
    "### 默认初始化\n",
    "默认情况下,可以使用正态度分布来初始化权重值, 如果不指定初始化方法, 框架默认采用随机初始化方法"
   ]
  },
  {
   "cell_type": "markdown",
   "id": "20f172b3-89a8-46d1-b080-dfa8138090b6",
   "metadata": {},
   "source": [
    "### Xavier 初始化\n",
    "`Xavier`初始化的核心是保持方差不变, 不难得到, 对于一个层, 单个输入和输出的关系如下: $o_i = \\sum_{j = 1}^{n_in} {\\omega}_{ij}x_j$, 并且权重 $w_{ij}$ 可以通过同一个分布抽取, 此时可以计算输出的方差和均值:\n",
    "$$\n",
    "\\begin{align*}\n",
    "E[o_i] &= \\sum_{j=1}^{n_{\\text{in}}} E[w_{ij}x_j] \\\\\n",
    "&= \\sum_{j=1}^{n_{\\text{in}}} E[w_{ij}]E[x_j] \\\\\n",
    "&= 0, \\\\\n",
    "\\text{Var}[o_i] &= E[o_i^2] - (E[o_i])^2 \\\\\n",
    "&= \\sum_{j=1}^{n_{\\text{in}}} E[w_{ij}^2x_j^2] - 0 \\\\\n",
    "&= \\sum_{j=1}^{n_{\\text{in}}} E[w_{ij}^2]E[x_j^2] \\\\\n",
    "&= n_{\\text{in}}\\sigma^2\\gamma^2.\n",
    "\\end{align*}\n",
    "$$\n",
    "为了保持方差不变此时需要满足 $n_{in} \\sigma^2$, 同时对于下一层需要 $n_{out} \\sigma^2$, 此时无法满足这两个条件, 所以可以满足:\n",
    "$$\n",
    "\\frac{1}{2}(n_{\\text{in}} + n_{\\text{out}})\\sigma^2 = 1 \\text{ 或等价于 } \\sigma = \\sqrt{\\frac{2}{n_{\\text{in}} + n_{\\text{out}}}}.\n",
    "$$\n",
    "如果权重 $w_{ij}$ 满足均匀分布, 可以推导出权重满足的具体分布:\n",
    "$$\n",
    "U \\left( -\\sqrt{\\frac{6}{n_{\\text{in}} + n_{\\text{out}}}}, \\sqrt{\\frac{6}{n_{\\text{in}} + n_{\\text{out}}}} \\right).\n",
    "$$"
   ]
  },
  {
   "cell_type": "markdown",
   "id": "41f1d91d-a21d-400e-889f-efc907e92ba7",
   "metadata": {},
   "source": [
    "## 补充\n",
    "Q1: 为什么 `ReLU` 可以缓解梯度消失问题从而加速收敛?\n",
    "\n",
    "我的理解: `ReLU` 对于小于 `0` 的输入相当于直接隐藏, 所以这一部分数据对应的梯度也就是 `0`, 另外一些大于 `0` 的部分的输入对应的梯度始终为 `1` 不会消失"
   ]
  }
 ],
 "metadata": {
  "kernelspec": {
   "display_name": "Python 3 (ipykernel)",
   "language": "python",
   "name": "python3"
  },
  "language_info": {
   "codemirror_mode": {
    "name": "ipython",
    "version": 3
   },
   "file_extension": ".py",
   "mimetype": "text/x-python",
   "name": "python",
   "nbconvert_exporter": "python",
   "pygments_lexer": "ipython3",
   "version": "3.8.20"
  }
 },
 "nbformat": 4,
 "nbformat_minor": 5
}
