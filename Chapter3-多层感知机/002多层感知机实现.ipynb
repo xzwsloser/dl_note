{
 "cells": [
  {
   "cell_type": "code",
   "execution_count": 31,
   "id": "67b0ecde-619e-46a0-8f23-fc58a58c5840",
   "metadata": {},
   "outputs": [
    {
     "data": {
      "text/plain": [
       "'2.4.1'"
      ]
     },
     "execution_count": 31,
     "metadata": {},
     "output_type": "execute_result"
    }
   ],
   "source": [
    "import torch\n",
    "import torch.nn as nn\n",
    "from torch.utils.data import Dataset, DataLoader\n",
    "import torch.optim as optim\n",
    "import torchvision\n",
    "from torchvision.transforms import transforms\n",
    "import numpy as np\n",
    "import matplotlib.pyplot as plt\n",
    "torch.__version__"
   ]
  },
  {
   "cell_type": "markdown",
   "id": "a3a4e758-9555-4a63-ba8a-91f62d9d34ef",
   "metadata": {},
   "source": [
    "# 多层感知机实现(造轮子)"
   ]
  },
  {
   "cell_type": "code",
   "execution_count": 19,
   "id": "504de051-e63b-4e61-919d-e35a65a2c99a",
   "metadata": {},
   "outputs": [
    {
     "data": {
      "text/plain": [
       "(235, 40)"
      ]
     },
     "execution_count": 19,
     "metadata": {},
     "output_type": "execute_result"
    }
   ],
   "source": [
    "# 1. 构造数据集\n",
    "def load_fashion_mnist(batch_size):\n",
    "    trans = transforms.Compose([transforms.ToTensor()])\n",
    "    mnist_train = torchvision.datasets.FashionMNIST(train=True, download=True, root='./data', transform=trans)\n",
    "    mnist_test = torchvision.datasets.FashionMNIST(train=False, download=True, root='./data', transform=trans)\n",
    "    train_iter = DataLoader(mnist_train, shuffle=True, batch_size=batch_size)\n",
    "    test_iter = DataLoader(mnist_test, shuffle=False, batch_size=batch_size)\n",
    "    return train_iter, test_iter\n",
    "batch_size = 256\n",
    "train_iter, test_iter = load_fashion_mnist(batch_size)\n",
    "len(train_iter), len(test_iter)"
   ]
  },
  {
   "cell_type": "code",
   "execution_count": 53,
   "id": "68df32e0-4f67-4a61-b51b-b7cb3c044769",
   "metadata": {},
   "outputs": [],
   "source": [
    "# 2. 构造模型\n",
    "# 2.1 构造模型参数\n",
    "num_inputs, num_outputs, num_hiddens = 784, 10, 256\n",
    "W1 = nn.Parameter(torch.randn(num_inputs, num_hiddens, requires_grad=True)*0.01)\n",
    "b1 = nn.Parameter(torch.zeros(num_hiddens, requires_grad=True))\n",
    "W2 = nn.Parameter(torch.randn(num_hiddens, num_outputs, requires_grad=True)*0.01)\n",
    "b2 = nn.Parameter(torch.zeros(num_outputs, requires_grad=True))\n",
    "params = [W1, b1, W2, b2]\n",
    "# 2.2 relu 激活函数\n",
    "def relu(X):\n",
    "    a = torch.zeros_like(X)\n",
    "    return torch.max(X, a)\n",
    "# 2.3 构造模型\n",
    "def net(X):\n",
    "    X = X.reshape((-1, num_inputs))\n",
    "    H = relu(X @ W1 + b1)\n",
    "    Y = H @ W2 + b2\n",
    "    return Y\n",
    "\n",
    "# 使用神经网络\n",
    "# class MLP(nn.Module):\n",
    "#     def __init__(self, num_inputs, num_hiddens, num_outputs):\n",
    "#         super().__init__()\n",
    "#         self.W1 = nn.Parameter(torch.randn(num_inputs, num_hiddens) * 0.01)\n",
    "#         self.b1 = nn.Parameter(torch.zeros(num_hiddens))\n",
    "#         self.W2 = nn.Parameter(torch.randn(num_hiddens, num_outputs) * 0.01)\n",
    "#         self.b2 = nn.Parameter(torch.zeros(num_outputs))\n",
    "#     def forward(self, X):\n",
    "#         X = X.reshape(-1, num_inputs)\n",
    "#         H = torch.relu(X @ self.W1 + self.b1)\n",
    "#         return H @ self.W2 + self.b2\n",
    "\n",
    "# net = MLP(num_inputs, num_hiddens, num_outputs)\n"
   ]
  },
  {
   "cell_type": "code",
   "execution_count": 21,
   "id": "1ed7a06a-3948-48e7-8f26-668e7140be45",
   "metadata": {},
   "outputs": [],
   "source": [
    "# 3. 定义损失函数\n",
    "loss = nn.CrossEntropyLoss(reduction='none') # 此时 loss 返回一个向量"
   ]
  },
  {
   "cell_type": "code",
   "execution_count": 49,
   "id": "9d25a649-079e-45c8-8630-45b1d7b81f2d",
   "metadata": {},
   "outputs": [],
   "source": [
    "# 4. 定义优化器函数\n",
    "num_epochs, lr = 10, 0.01\n",
    "updater = torch.optim.SGD(params=params, lr=lr)"
   ]
  },
  {
   "cell_type": "code",
   "execution_count": 50,
   "id": "84381a73-4392-4df1-9dfe-c9d8250860a7",
   "metadata": {},
   "outputs": [],
   "source": [
    "# 5. 开始训练\n",
    "# 5.1 记录预测正确率的工具函数\n",
    "def accuaray(y_pred, y):\n",
    "    \"\"\"批量为 batch_size, 返回预测正确的数量\"\"\"\n",
    "    assert len(y_pred) == len(y), len(y)\n",
    "    y_pred = y_pred.argmax(axis=1)\n",
    "    cmp = (y_pred.type(y.dtype) == y)\n",
    "    return float(cmp.type(y.dtype).sum())\n",
    "def test_model(net, test_iter):\n",
    "    \"\"\"返回准确率以及测试集损失\"\"\"\n",
    "    total_size = 0\n",
    "    test_acc = 0\n",
    "    loss_value = 0\n",
    "    for X, y in test_iter:\n",
    "        total_size += len(y)\n",
    "        y_pred = net(X)\n",
    "        test_acc += accuaray(y_pred, y)\n",
    "        loss_value += loss(y_pred, y).sum().item()\n",
    "    return loss_value/total_size, test_acc/total_size"
   ]
  },
  {
   "cell_type": "code",
   "execution_count": 51,
   "id": "5b0997b3-93dc-42b1-885a-4d3594d15faa",
   "metadata": {},
   "outputs": [],
   "source": [
    "# 5.2 训练\n",
    "\n",
    "def train_model(net, train_iter, test_iter, updater, loss):\n",
    "    \"\"\"\n",
    "    net: 模型\n",
    "    train_iter: 训练集\n",
    "    test_iter: 测试集\n",
    "    updater: 优化器\n",
    "    loss: 损失函数\n",
    "    \"\"\"\n",
    "    test_acc = []\n",
    "    train_acc = []\n",
    "    train_loss = []\n",
    "    for epoch in range(num_epochs):\n",
    "        tr_acc = 0\n",
    "        tr_loss = 0\n",
    "        tr_size = 0\n",
    "        for X, y in train_iter:\n",
    "            tr_size += len(y)\n",
    "            y_pred = net(X)\n",
    "            lv = loss(y_pred, y)\n",
    "            tr_loss += lv.sum().item()\n",
    "            tr_acc += accuaray(y_pred, y)\n",
    "            updater.zero_grad()\n",
    "            lv.mean().backward()\n",
    "            updater.step()\n",
    "        with torch.no_grad():\n",
    "            te_loss, te_acc = test_model(net, test_iter)\n",
    "            test_acc.append(te_acc)\n",
    "            train_loss.append(tr_loss/tr_size)\n",
    "            train_acc.append(tr_acc/tr_size)\n",
    "            print(f'Epoch:{epoch + 1}, train loss = {tr_loss/tr_size:.4f}, test acc = {te_acc:.4f}')\n",
    "    return test_acc, train_acc, train_loss"
   ]
  },
  {
   "cell_type": "code",
   "execution_count": 52,
   "id": "e9e375ab-3f32-40fc-9a6a-2da3d1abfe82",
   "metadata": {},
   "outputs": [
    {
     "name": "stdout",
     "output_type": "stream",
     "text": [
      "Epoch:1, train loss = 0.5096, test acc = 0.8125\n",
      "Epoch:2, train loss = 0.5035, test acc = 0.8151\n",
      "Epoch:3, train loss = 0.4980, test acc = 0.8148\n",
      "Epoch:4, train loss = 0.4931, test acc = 0.8199\n",
      "Epoch:5, train loss = 0.4885, test acc = 0.8208\n",
      "Epoch:6, train loss = 0.4842, test acc = 0.8213\n",
      "Epoch:7, train loss = 0.4801, test acc = 0.8220\n",
      "Epoch:8, train loss = 0.4764, test acc = 0.8245\n",
      "Epoch:9, train loss = 0.4728, test acc = 0.8242\n",
      "Epoch:10, train loss = 0.4697, test acc = 0.8261\n"
     ]
    }
   ],
   "source": [
    "test_acc, train_acc, train_loss = train_model(net, train_iter, test_iter, updater, loss)"
   ]
  },
  {
   "cell_type": "code",
   "execution_count": 54,
   "id": "b64e85ff-2b88-4ed0-9837-72204e07799c",
   "metadata": {},
   "outputs": [
    {
     "data": {
      "image/png": "[encoded data removed]",
      "text/plain": [
       "<Figure size 500x350 with 1 Axes>"
      ]
     },
     "metadata": {},
     "output_type": "display_data"
    }
   ],
   "source": [
    "# 展示数据\n",
    "# 如果需要设置子图需要使用 subplots 函数\n",
    "def data_display(num_epochs, test_acc, train_acc, train_loss):\n",
    "      # 创建图表并设置大小\n",
    "      plt.figure(figsize=(5, 3.5))  # 设置图表大小为3.5×2.5英寸\n",
    "      epochs = np.arange(num_epochs)\n",
    "      # 绘制三条曲线\n",
    "      plt.plot(epochs, test_acc, 'g--', label='test acc')    # 绿色实线\n",
    "      plt.plot(epochs, train_loss, '-', label='train loss')   # 红色实线\n",
    "      plt.plot(epochs, train_acc, 'y--', label='train acc')  # 蓝色实线\n",
    "      # 设置图表标题和坐标轴标签\n",
    "      plt.xlabel('epoch')\n",
    "      # 设置y轴范围（根据数据特性调整）\n",
    "      plt.ylim(0, 1.1)  # 假设准确率和损失值在0-1.1范围内\n",
    "\n",
    "      # 显示图例和网格线\n",
    "      plt.legend()\n",
    "      plt.grid(True)  # 显示网格线\n",
    "      # 自动调整布局并显示图表\n",
    "      plt.tight_layout()  # 自动调整布局，确保所有元素可见\n",
    "      plt.show()\n",
    "data_display(num_epochs, test_acc, train_acc, train_loss)"
   ]
  },
  {
   "cell_type": "markdown",
   "id": "53c6a0d1-f0b8-4422-88c1-9a6aaf56d652",
   "metadata": {},
   "source": [
    "# 多层感知机(简介实现)"
   ]
  },
  {
   "cell_type": "code",
   "execution_count": 55,
   "id": "9f61512d-cbcb-41a7-9fc1-6a57f3b8c2c1",
   "metadata": {},
   "outputs": [],
   "source": [
    "# 搭建模型\n",
    "net = nn.Sequential(\n",
    "     nn.Flatten(),\n",
    "     nn.Linear(num_inputs, num_hiddens),\n",
    "     nn.ReLU(),\n",
    "     nn.Linear(num_hiddens, num_outputs)\n",
    ")\n",
    "\n",
    "loss = nn.CrossEntropyLoss(reduction='none')\n",
    "updater = optim.SGD(net.parameters(), lr=0.01)"
   ]
  },
  {
   "cell_type": "code",
   "execution_count": 57,
   "id": "b1de440d-5e83-4cd8-a551-494902b89bfb",
   "metadata": {},
   "outputs": [
    {
     "name": "stdout",
     "output_type": "stream",
     "text": [
      "Epoch:1, train loss = 0.5571, test acc = 0.8037\n",
      "Epoch:2, train loss = 0.5442, test acc = 0.8070\n",
      "Epoch:3, train loss = 0.5333, test acc = 0.8106\n",
      "Epoch:4, train loss = 0.5237, test acc = 0.8147\n",
      "Epoch:5, train loss = 0.5152, test acc = 0.8154\n",
      "Epoch:6, train loss = 0.5079, test acc = 0.8175\n",
      "Epoch:7, train loss = 0.5013, test acc = 0.8178\n",
      "Epoch:8, train loss = 0.4949, test acc = 0.8203\n",
      "Epoch:9, train loss = 0.4893, test acc = 0.8206\n",
      "Epoch:10, train loss = 0.4842, test acc = 0.8239\n"
     ]
    }
   ],
   "source": [
    "# 模型训练\n",
    "test_acc, train_acc, train_loss = train_model(net, train_iter, test_iter, updater, loss)"
   ]
  },
  {
   "cell_type": "code",
   "execution_count": 58,
   "id": "5735db7f-afee-411e-9f72-4edf57335f3f",
   "metadata": {},
   "outputs": [
    {
     "data": {
      "image/png": "[encoded data removed]",
      "text/plain": [
       "<Figure size 500x350 with 1 Axes>"
      ]
     },
     "metadata": {},
     "output_type": "display_data"
    }
   ],
   "source": [
    "# 结果\n",
    "data_display(num_epochs, test_acc, train_acc, train_loss)"
   ]
  }
 ],
 "metadata": {
  "kernelspec": {
   "display_name": "Python 3 (ipykernel)",
   "language": "python",
   "name": "python3"
  },
  "language_info": {
   "codemirror_mode": {
    "name": "ipython",
    "version": 3
   },
   "file_extension": ".py",
   "mimetype": "text/x-python",
   "name": "python",
   "nbconvert_exporter": "python",
   "pygments_lexer": "ipython3",
   "version": "3.8.20"
  }
 },
 "nbformat": 4,
 "nbformat_minor": 5
}
