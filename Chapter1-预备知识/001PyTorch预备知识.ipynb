{
 "cells": [
  {
   "cell_type": "code",
   "execution_count": 1,
   "id": "ae905a97-9dd8-4afb-9af1-fc2a2df87b46",
   "metadata": {},
   "outputs": [
    {
     "name": "stdout",
     "output_type": "stream",
     "text": [
      "2.4.1\n"
     ]
    }
   ],
   "source": [
    "import torch\n",
    "print(torch.__version__)"
   ]
  },
  {
   "cell_type": "markdown",
   "id": "cd8ca642-3029-49d6-b662-b8389c5a58d1",
   "metadata": {},
   "source": [
    "# PyTorch 预备知识\n",
    "> 由于在 `Chapter0` 中已经比较系统的梳理了一遍 `PyTorch` 相关的知识, 这里仅仅补充教程中没有提到的例子"
   ]
  },
  {
   "cell_type": "markdown",
   "id": "cda541ec-6563-4fdc-93f8-e23141538314",
   "metadata": {},
   "source": [
    "## torch.Tensor 相关操作\n",
    "### 广播机制\n",
    "> 类似于 `numpy` 中的广播机制, 也就是形状不相同的两个张量进行运算的时候, 会发生广播机制\n",
    "广播机制的工作方式如下:\n",
    "- 通过适当的元素赋值来扩展一个或者两个数组, 以便在转换之后, 两个张量具有相同的形状\n",
    "- 对生成的数组按元素操作"
   ]
  },
  {
   "cell_type": "code",
   "execution_count": 2,
   "id": "c36ec9a2-2e53-481e-b0f5-9c2a87603f20",
   "metadata": {},
   "outputs": [
    {
     "data": {
      "text/plain": [
       "(tensor([[0],\n",
       "         [1],\n",
       "         [2]]),\n",
       " tensor([[0, 1]]))"
      ]
     },
     "execution_count": 2,
     "metadata": {},
     "output_type": "execute_result"
    }
   ],
   "source": [
    "# 1. 广播机制\n",
    "a = torch.arange(3).reshape((3, 1))\n",
    "b = torch.arange(2).reshape((1, 2))\n",
    "a, b"
   ]
  },
  {
   "cell_type": "code",
   "execution_count": 3,
   "id": "7e6b3a0d-f1b9-4430-a2fe-7bd58aada49a",
   "metadata": {},
   "outputs": [
    {
     "data": {
      "text/plain": [
       "tensor([[0, 1],\n",
       "        [1, 2],\n",
       "        [2, 3]])"
      ]
     },
     "execution_count": 3,
     "metadata": {},
     "output_type": "execute_result"
    }
   ],
   "source": [
    "a + b"
   ]
  },
  {
   "cell_type": "markdown",
   "id": "e760b624-3a6b-4eca-a19d-4dff994f2927",
   "metadata": {},
   "source": [
    "### 切片操作\n",
    "> 切片操作和 `Numpy` 以及 `Python` 列表中的切片操作基本一样, 不做过多的描述"
   ]
  },
  {
   "cell_type": "markdown",
   "id": "f064f3bc-91b9-4d59-9a70-6087aa46a332",
   "metadata": {},
   "source": [
    "## 数据预处理\n",
    "> 这里可以参考数据分析部分的笔记, 主要是 `pd.DataFrame, pd.Series` 对象的 `dropna, fillna, get_dummies` 等方法的使用"
   ]
  },
  {
   "cell_type": "code",
   "execution_count": 8,
   "id": "aaece885-4fe8-4414-b609-10bae6bd3997",
   "metadata": {},
   "outputs": [],
   "source": [
    "import os\n",
    "import pandas as pd\n",
    "os.makedirs(os.path.join('..', 'data'), exist_ok=True)\n",
    "data_file = os.path.join('..', 'data', 'data.csv')\n",
    "with open(data_file, 'w') as f:\n",
    "    f.write('NumRooms,Alley,Price\\n')  # 列名\n",
    "    f.write('NA,Pave,127500\\n')  # 每行表示一个数据样本\n",
    "    f.write('2,NA,106000\\n')\n",
    "    f.write('4,NA,178100\\n')\n",
    "    f.write('NA,NA,140000\\n')"
   ]
  },
  {
   "cell_type": "code",
   "execution_count": 9,
   "id": "4cb6ac80-0030-41e2-8779-d80906f1bf26",
   "metadata": {},
   "outputs": [
    {
     "data": {
      "text/html": [
       "<div>\n",
       "<style scoped>\n",
       "    .dataframe tbody tr th:only-of-type {\n",
       "        vertical-align: middle;\n",
       "    }\n",
       "\n",
       "    .dataframe tbody tr th {\n",
       "        vertical-align: top;\n",
       "    }\n",
       "\n",
       "    .dataframe thead th {\n",
       "        text-align: right;\n",
       "    }\n",
       "</style>\n",
       "<table border=\"1\" class=\"dataframe\">\n",
       "  <thead>\n",
       "    <tr style=\"text-align: right;\">\n",
       "      <th></th>\n",
       "      <th>NumRooms</th>\n",
       "      <th>Alley</th>\n",
       "      <th>Price</th>\n",
       "    </tr>\n",
       "  </thead>\n",
       "  <tbody>\n",
       "    <tr>\n",
       "      <th>0</th>\n",
       "      <td>NaN</td>\n",
       "      <td>Pave</td>\n",
       "      <td>127500</td>\n",
       "    </tr>\n",
       "    <tr>\n",
       "      <th>1</th>\n",
       "      <td>2.0</td>\n",
       "      <td>NaN</td>\n",
       "      <td>106000</td>\n",
       "    </tr>\n",
       "    <tr>\n",
       "      <th>2</th>\n",
       "      <td>4.0</td>\n",
       "      <td>NaN</td>\n",
       "      <td>178100</td>\n",
       "    </tr>\n",
       "    <tr>\n",
       "      <th>3</th>\n",
       "      <td>NaN</td>\n",
       "      <td>NaN</td>\n",
       "      <td>140000</td>\n",
       "    </tr>\n",
       "  </tbody>\n",
       "</table>\n",
       "</div>"
      ],
      "text/plain": [
       "   NumRooms Alley   Price\n",
       "0       NaN  Pave  127500\n",
       "1       2.0   NaN  106000\n",
       "2       4.0   NaN  178100\n",
       "3       NaN   NaN  140000"
      ]
     },
     "execution_count": 9,
     "metadata": {},
     "output_type": "execute_result"
    }
   ],
   "source": [
    "data = pd.read_csv('../data/data.csv')\n",
    "data"
   ]
  },
  {
   "cell_type": "code",
   "execution_count": 31,
   "id": "b6a7ed64-eb32-4207-94bc-c558c8f16b4f",
   "metadata": {},
   "outputs": [
    {
     "name": "stdout",
     "output_type": "stream",
     "text": [
      "[3. 2. 4. 3.]\n"
     ]
    }
   ],
   "source": [
    "# 数据清洗部分\n",
    "# 首先分出特征值和标签值\n",
    "in1, in2, out = data.iloc[:, 0], data.iloc[:, 1], data.iloc[:, 2]\n",
    "in1 = in1.fillna(in1.mean())\n",
    "in2 = pd.get_dummies(in2, dummy_na=True)\n",
    "print(in1.values)"
   ]
  }
 ],
 "metadata": {
  "kernelspec": {
   "display_name": "Python 3 (ipykernel)",
   "language": "python",
   "name": "python3"
  },
  "language_info": {
   "codemirror_mode": {
    "name": "ipython",
    "version": 3
   },
   "file_extension": ".py",
   "mimetype": "text/x-python",
   "name": "python",
   "nbconvert_exporter": "python",
   "pygments_lexer": "ipython3",
   "version": "3.8.20"
  }
 },
 "nbformat": 4,
 "nbformat_minor": 5
}
